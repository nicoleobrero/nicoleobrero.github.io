{
 "cells": [
  {
   "cell_type": "markdown",
   "metadata": {
    "colab_type": "text",
    "id": "h35-PAL_DR1i"
   },
   "source": [
    "<img src=\"https://upload.wikimedia.org/wikipedia/commons/thumb/7/7a/Bureau_of_Customs.svg/1200px-Bureau_of_Customs.svg.png\" width=20% align=\"center\">  \n"
   ]
  },
  {
   "cell_type": "markdown",
   "metadata": {
    "colab_type": "text",
    "id": "aPV8eRWcDR1m"
   },
   "source": [
    "<center> <font size=\"5\"><b>Call of Duties: An Analysis of the Duties and Taxes of Imported Products in 2019</font></center>"
   ]
  },
  {
   "cell_type": "code",
   "execution_count": 1,
   "metadata": {
    "ExecuteTime": {
     "end_time": "2020-06-23T15:48:23.899366Z",
     "start_time": "2020-06-23T15:48:23.877682Z"
    },
    "colab": {
     "base_uri": "https://localhost:8080/",
     "height": 37
    },
    "colab_type": "code",
    "id": "_AStq4TSDR1o",
    "outputId": "98ef6242-9690-4315-87d0-a9a07b86732a"
   },
   "outputs": [
    {
     "data": {
      "text/html": [
       "<script>\n",
       "code_show=true; \n",
       "function code_toggle() {\n",
       " if (code_show){\n",
       " $('div.input').hide();\n",
       " } else {\n",
       " $('div.input').show();\n",
       " }\n",
       " code_show = !code_show\n",
       "} \n",
       "$( document ).ready(code_toggle);\n",
       "</script>\n",
       "<form action=\"javascript:code_toggle()\"><input type=\"submit\" value=\"Click here to toggle on/off the raw code.\"></form>"
      ],
      "text/plain": [
       "<IPython.core.display.HTML object>"
      ]
     },
     "execution_count": 1,
     "metadata": {},
     "output_type": "execute_result"
    }
   ],
   "source": [
    "from IPython.display import HTML\n",
    "HTML('''<script>\n",
    "code_show=true; \n",
    "function code_toggle() {\n",
    " if (code_show){\n",
    " $('div.input').hide();\n",
    " } else {\n",
    " $('div.input').show();\n",
    " }\n",
    " code_show = !code_show\n",
    "} \n",
    "$( document ).ready(code_toggle);\n",
    "</script>\n",
    "<form action=\"javascript:code_toggle()\"><input type=\"submit\" value=\"Click here to toggle on/off the raw code.\"></form>''')"
   ]
  },
  {
   "cell_type": "code",
   "execution_count": 23,
   "metadata": {
    "ExecuteTime": {
     "end_time": "2020-06-23T15:48:32.818631Z",
     "start_time": "2020-06-23T15:48:30.782946Z"
    },
    "colab": {},
    "colab_type": "code",
    "id": "CG0-m0kFDR12"
   },
   "outputs": [],
   "source": [
    "from pathlib import Path\n",
    "import re\n",
    "import pandas as pd\n",
    "import pandas as pd\n",
    "import numpy as np\n",
    "import seaborn as sns\n",
    "import matplotlib.pyplot as plt\n",
    "import sqlite3\n",
    "import warnings\n",
    "warnings.filterwarnings(\"ignore\")"
   ]
  },
  {
   "cell_type": "code",
   "execution_count": 3,
   "metadata": {
    "ExecuteTime": {
     "end_time": "2020-06-23T15:48:34.198639Z",
     "start_time": "2020-06-23T15:48:34.187950Z"
    },
    "colab": {
     "base_uri": "https://localhost:8080/",
     "height": 17
    },
    "colab_type": "code",
    "id": "YVZuudpeDR2E",
    "outputId": "f2f5fdfd-20dc-406b-b131-25ee7d09ee6e"
   },
   "outputs": [
    {
     "data": {
      "text/html": [
       "<style>\n",
       ".table1 table{\n",
       "    width: 80%\n",
       "}\n",
       "\n",
       "</style>\n"
      ],
      "text/plain": [
       "<IPython.core.display.HTML object>"
      ]
     },
     "metadata": {},
     "output_type": "display_data"
    }
   ],
   "source": [
    "%%HTML\n",
    "<style>\n",
    ".table1 table{\n",
    "    width: 80%\n",
    "}\n",
    "\n",
    "</style>"
   ]
  },
  {
   "cell_type": "markdown",
   "metadata": {
    "colab_type": "text",
    "id": "fwYA_jLUDR2K"
   },
   "source": [
    "# <span style=\"color:darkblue\"> 1. Executive Summary </span>\n",
    "\n",
    "Except for the year 2018, the Philippine Bureau of Customs (BoC) has consistently missed its revenue collection targets. It seems likely that the BoC would again miss their target in 2020 because of the pandemic affecting the world. This study is an exploration of the importing behavior of the Philippines using 2019 customs data. The data is part of the \"Philippine Customs Imports dataset\" made available by the BoC [through their website](http://customs.gov.ph/import-reports/). The researchers would like to explore the question \"Where does the Bureau of Customs' income come from?\"\n",
    "\n",
    "In line with this, the researchers would like to know:\n",
    "\n",
    "* What materials are we importing from which countries?\n",
    "* How much do these materials contribute to BoC revenue?\n",
    "* How does the value of duties and taxes vary relative to the dutiable value of a product?\n",
    "\n",
    "Data were extracted from the customs website and consolidated in `Jojie` and transactions for 2019 were consolidated in a CSV file. Data and rows based on DUTIESTAXES were focused on and prepared for analysis. All data based on `DUTIESTAXES` were filtered. Concerning the `DUTIESTAXES`, a new column named `HS2` was derived from `HSCODE`, `year` and `month` was added to it, then the `HSCODES` were merged into the current dataframe. The dataframe was then analyzed and the results showed that the materials that contributed the most in the BoC’s revenue are oil, machinery, electrical components and vehicles, and the countries that provided these the most are China, Thailand, Korea, and Indonesia. The insights gathered from this analysis can inform the agency so they can reduce risks related to too much reliance on a single supplier for a particular product as well as to hit their revenue collection target by making use of its limited manpower to monitor and ensure collections knowing that certain products contribute more to revenues. This is especially relevant now as countries impose lockdowns in their economy, overreliance on a single country for a certain product might prove to be a single point of failure in the entire supply chain.\n",
    "\n"
   ]
  },
  {
   "cell_type": "markdown",
   "metadata": {
    "colab_type": "text",
    "id": "cjlflj1xDR2M"
   },
   "source": [
    "# <span style=\"color:darkblue\"> 2. Introduction</span>  \n",
    "The Philippine Bureau of Customs, an agency under the Department of Finance, performs several key functions like assessing, maintaining, collecting trade revenues and they play a lead role in maintaining stability and development in foreign trade. The BoC has a hand in helping the economic growth of the country. If the revenue collected exceeds its targets for a given year, this could contribute to helping the economy get out of the red. This is not most often the case though. For over a period of 7 years, (2010 – 2017), the BoC missed their yearly targets, only to exceed it in 2018. [[1]](https://www.manilatimes.net/2019/01/02/news/top-stories/customs-surpasses-2018-collection-target/490528/#:~:text=FOR%20the%20first%20time%20in,881%20billion.) As much as this is promising, they fell short of their target again in 2019, amid lower import volumes. [[2]](https://www.bworldonline.com/customs-bureau-fails-to-hit-2019-revenue-target/) \n",
    "\n",
    "In this period of a pandemic that's affecting all nations, it is understandable that the trading and importing volume per country would be affected and one could not help but think if BoC would miss their target again for the year 2020. With this in mind, it's worth looking at different factors that affect revenue collection. This data analysis focuses on determining the top product categories imported into the country, examining how they affect our revenue collection, and identifying possible opportunities to increase the Bureau of Customs revenue."
   ]
  },
  {
   "cell_type": "markdown",
   "metadata": {
    "colab_type": "text",
    "id": "B2Ep2Eu0DR2N"
   },
   "source": [
    "# <span style=\"color:darkblue\"> 3. Data Processing and Cleaning </span>\n",
    "The customs dataset from Jojie is a copy of the publicly released data from the Bureau of Customs Reports of Import Entries ([link](http://customs.gov.ph/import-reports/)). In research by Ken Abante, this information comes from the Bureau’s electronic2mobile (e2m) system where importers and customs brokers declare imports by filling out the Single Administrative Document (SAD) form, which is then approved by authorized customs officers after assessing the value and levying duties and taxes. The data appears to have been anonymized since it does not include any broker or importer information. [[3]](https://www.researchgate.net/publication/339066219) \n",
    "\n",
    "This research wishes to observe patterns in import data beginning with records from January 2019, more than a year after the implementation of the latest version of the ASEAN Harmonized Tariff Nomenclature (AHTN 2017) which sought to provide a common and consistent classification standard and tariff rates attached to goods. [[4]](https://drive.google.com/file/d/0B6XF3AhfubONMUlNV1BLUTMzeUU/view)\n"
   ]
  },
  {
   "cell_type": "markdown",
   "metadata": {
    "colab_type": "text",
    "id": "yrLJYtg8DR2O"
   },
   "source": [
    "\n",
    "|Variable Name                           | Definition | Data Type|\n",
    "|:-|:-|:-|\n",
    "|HSCODE                                  |Harmonized Commodity Description and Coding System. Internationally-standardized system of numbers and names that describes the type of good that is shipped. | Integer |\n",
    "|COUNTRYEXPORT                           |Country of export of the goods | String |\n",
    "|GROSSMASSKGS                            |Mass of the goods including packaging | Float |\n",
    "|NETMASSKG                               |Mass of the imported good itself without any packaging | Float |\n",
    "|CUSTOMSVALUE (in Foreign Currency)      |Amount paid or payable for the imported goods | Float |\n",
    "|CURRENCY                                | Currency of the import transaction (CUSTOMSVALUE) |String|\n",
    "|DUTIABLE_FOREIGN (in Foreign Currency)  | Dutiable import value upon which the import duty rate will be levied  `CUSTOMSVALUE + INSURANCE + FREIGHT`     | Float |\n",
    "|EXCHANGE_RATE                           |Exchange rate used from the foreign currency unit (CURRENCY) to Philippine peso | Float |\n",
    "|FREIGHT  (in Foreign Currency)          |Cost of shipping of imported goods |Float|\n",
    "|INSURANCE (in Foreign Currency)         |Cost of insurance of the goods |Float|\n",
    "|ARRASTRE (in Foreign Currency)          |Cost of handling the cargo | Float |\n",
    "|PREF_CODE                               | Preferential trade agreement used for the transaction. Reduced customs duty rates may apply on importrf goods from a country with which PH has a trade agreement. |String|\n",
    "|DUTY_PAID (in PHP)                      |Customs duties paid for the imported goods |Integer|\n",
    "|VATBASE (in PHP)                        |VATable value of goods upon which the VAT rate of 12% will be levied | Integer |\n",
    "|VAT_PAID (in PHP)                       |Value-added taxes paid on the transaction, in Philippine peso |Integer|\n",
    "|EXCISEADVALOREM (in PHP)                |Excise and ad valorem taxes on the goods |Float|\n",
    "|DUTIESTAXES                             |Total duties and taxes paid `DUTY_PAID + VAT_PAID + EXCISEADVALOREM`|Integer|\n",
    "|GOODSDESCRIPTION                        | Description of the imported goods |String|\n",
    "</div>\n",
    "\n",
    "<center><i><b>Table 1:</b> Data Dictionary of Customs Dataset</i></center>"
   ]
  },
  {
   "cell_type": "markdown",
   "metadata": {
    "colab_type": "text",
    "id": "KS6pZFv_DR2P"
   },
   "source": [
    "## 3.1 Consolidate 2019 Excel Files into one CSV File\n",
    "\n",
    "Released as Excel files, the data contains monthly customs records with no accompanying descriptions or definitions. It is also worth noting that these files are not standardized and do not have the same content. There are 41 different columns in the raw file but to have a meaningful comparison, only 15 columns (see Table 1) were chosen to be used in this analysis.\n",
    "\n",
    "\n",
    "There is a total of 12 excel files from January 2019 to December 2019 and each file includes the month and year of the transactions contained within that file. A script was written to read data from all the Excel files in the customs dataset directory and consolidate them into a single DataFrame. All Excel files with the years 2019 in the name were selected and after getting the month and the year from the file name, columns with those values were added to the DataFrame before being added to the consolidated data.\n",
    "\n",
    "\n",
    "The consolidated data was then saved into the gzip-compressed CSV file `customs2019.csv.gz` for easy and faster access every time it will be used in the future. \n",
    "\n",
    "A total of 3,794,776 import shipments were recorded by BoC from January 2019 to December 2019. The customs release data does not have a unique identifier for these transactions code so there could be double entries. "
   ]
  },
  {
   "cell_type": "code",
   "execution_count": 4,
   "metadata": {
    "ExecuteTime": {
     "end_time": "2020-06-23T16:23:18.365446Z",
     "start_time": "2020-06-23T16:05:48.618910Z"
    },
    "colab": {},
    "colab_type": "code",
    "id": "HjBUjSHrDR2R"
   },
   "outputs": [],
   "source": [
    "# from tqdm import tqdm_notebook\n",
    "# # Retrieve customs dataset from 2019.\n",
    "# path = Path('/mnt/data/public/customs/')\n",
    "# files = []\n",
    "# for year in ['2019']:\n",
    "#     files.extend(path.glob('*' + year + '.xlsx'))\n",
    "# files = [str(file) for file in files]\n",
    "\n",
    "# # Combine all datasets in a dataframe \n",
    "# df_all = pd.DataFrame()\n",
    "# for file in tqdm_notebook(files):\n",
    "#     df = pd.read_excel(file)\n",
    "#     pattern_month = r'(Jan|Feb|Mar|Apr|May|Jun|Jul|Aug|Sep|Oct|Nov|Dec)'\n",
    "#     pattern_year = r'\\d{4}'\n",
    "#     month = re.findall(pattern_month, file)\n",
    "#     year = re.findall(pattern_year, file)\n",
    "#     df['month'] = month[0]\n",
    "#     df['year'] = year[0]\n",
    "#     df_all = df_all.append(df, sort=False)\n",
    "\n",
    "# df_all.shape"
   ]
  },
  {
   "cell_type": "code",
   "execution_count": 5,
   "metadata": {
    "ExecuteTime": {
     "end_time": "2020-06-23T16:26:30.579219Z",
     "start_time": "2020-06-23T16:24:21.911045Z"
    },
    "colab": {},
    "colab_type": "code",
    "id": "Zpbo_ce5DR2b"
   },
   "outputs": [],
   "source": [
    "# df_all.to_csv(\"customs2019.csv.gz\", index=False, compression='gzip')"
   ]
  },
  {
   "cell_type": "markdown",
   "metadata": {
    "colab_type": "text",
    "id": "qQ56jgLNDR2k"
   },
   "source": [
    "**Load customs data from January 2019 to December 2019**\n",
    "*Columns from the consolidated file was further trimmed down and only the columns used in the study are loaded to minimize execution-time in the analysis.*"
   ]
  },
  {
   "cell_type": "code",
   "execution_count": 24,
   "metadata": {
    "colab": {
     "base_uri": "https://localhost:8080/",
     "height": 411
    },
    "colab_type": "code",
    "id": "xpsBmuSaDR2k",
    "outputId": "7ed8f720-254e-49d6-c538-c53d5837098a"
   },
   "outputs": [
    {
     "data": {
      "text/html": [
       "<div>\n",
       "<style scoped>\n",
       "    .dataframe tbody tr th:only-of-type {\n",
       "        vertical-align: middle;\n",
       "    }\n",
       "\n",
       "    .dataframe tbody tr th {\n",
       "        vertical-align: top;\n",
       "    }\n",
       "\n",
       "    .dataframe thead th {\n",
       "        text-align: right;\n",
       "    }\n",
       "</style>\n",
       "<table border=\"1\" class=\"dataframe\">\n",
       "  <thead>\n",
       "    <tr style=\"text-align: right;\">\n",
       "      <th></th>\n",
       "      <th>HSCODE</th>\n",
       "      <th>COUNTRYEXPORT</th>\n",
       "      <th>CUSTOMSVALUE</th>\n",
       "      <th>CURRENCY</th>\n",
       "      <th>DUTIABLE_FOREIGN</th>\n",
       "      <th>EXCHANGE_RATE</th>\n",
       "      <th>DUTIABLEVALUEPHP</th>\n",
       "      <th>FREIGHT</th>\n",
       "      <th>INSURANCE</th>\n",
       "      <th>PREF_CODE</th>\n",
       "      <th>DUTY_PAID</th>\n",
       "      <th>VAT_PAID</th>\n",
       "      <th>EXCISEADVALOREM</th>\n",
       "      <th>DUTIESTAXES</th>\n",
       "      <th>GOODSDESCRIPTION</th>\n",
       "      <th>year</th>\n",
       "    </tr>\n",
       "  </thead>\n",
       "  <tbody>\n",
       "    <tr>\n",
       "      <th>0</th>\n",
       "      <td>73011000000</td>\n",
       "      <td>CHINA</td>\n",
       "      <td>216000.00</td>\n",
       "      <td>USD</td>\n",
       "      <td>229438.89</td>\n",
       "      <td>51.033</td>\n",
       "      <td>11708955.00</td>\n",
       "      <td>13364.00</td>\n",
       "      <td>74.89</td>\n",
       "      <td>ACFTA</td>\n",
       "      <td>0</td>\n",
       "      <td>1421907</td>\n",
       "      <td>0</td>\n",
       "      <td>1421907</td>\n",
       "      <td>SHEET PILE Z SHAPE  770*343.5*8.5*12000 TOLE</td>\n",
       "      <td>2019</td>\n",
       "    </tr>\n",
       "    <tr>\n",
       "      <th>1</th>\n",
       "      <td>38244000000</td>\n",
       "      <td>JAPAN</td>\n",
       "      <td>46200.00</td>\n",
       "      <td>USD</td>\n",
       "      <td>150304.00</td>\n",
       "      <td>51.033</td>\n",
       "      <td>7670464.00</td>\n",
       "      <td>103180.00</td>\n",
       "      <td>924.00</td>\n",
       "      <td>JPEPA</td>\n",
       "      <td>0</td>\n",
       "      <td>1068958</td>\n",
       "      <td>0</td>\n",
       "      <td>1068958</td>\n",
       "      <td>7,700MT CHEMICAL GYPSUM IN BULK FOR USE AS R</td>\n",
       "      <td>2019</td>\n",
       "    </tr>\n",
       "    <tr>\n",
       "      <th>2</th>\n",
       "      <td>84313990000</td>\n",
       "      <td>CHINA</td>\n",
       "      <td>1730190.00</td>\n",
       "      <td>USD</td>\n",
       "      <td>1831866.89</td>\n",
       "      <td>50.826</td>\n",
       "      <td>93106466.55</td>\n",
       "      <td>67073.09</td>\n",
       "      <td>34603.80</td>\n",
       "      <td>ACFTA</td>\n",
       "      <td>0</td>\n",
       "      <td>11182987</td>\n",
       "      <td>0</td>\n",
       "      <td>11182987</td>\n",
       "      <td>PAN CONVEYOR BELT CONVEYOR COMPONENT</td>\n",
       "      <td>2019</td>\n",
       "    </tr>\n",
       "    <tr>\n",
       "      <th>3</th>\n",
       "      <td>73089099000</td>\n",
       "      <td>CHINA</td>\n",
       "      <td>752933.08</td>\n",
       "      <td>USD</td>\n",
       "      <td>797180.18</td>\n",
       "      <td>50.826</td>\n",
       "      <td>40517479.83</td>\n",
       "      <td>29188.44</td>\n",
       "      <td>15058.66</td>\n",
       "      <td>ACFTA</td>\n",
       "      <td>0</td>\n",
       "      <td>4870064</td>\n",
       "      <td>0</td>\n",
       "      <td>4870064</td>\n",
       "      <td>GRID BRIDGE PROCESS AIR DUCT STORAGE</td>\n",
       "      <td>2019</td>\n",
       "    </tr>\n",
       "    <tr>\n",
       "      <th>4</th>\n",
       "      <td>84283990000</td>\n",
       "      <td>CHINA</td>\n",
       "      <td>202038.82</td>\n",
       "      <td>USD</td>\n",
       "      <td>213911.90</td>\n",
       "      <td>50.826</td>\n",
       "      <td>10872286.23</td>\n",
       "      <td>7832.30</td>\n",
       "      <td>4040.78</td>\n",
       "      <td>ACFTA</td>\n",
       "      <td>0</td>\n",
       "      <td>1307109</td>\n",
       "      <td>0</td>\n",
       "      <td>1307109</td>\n",
       "      <td>CHAIN CONVEYOR</td>\n",
       "      <td>2019</td>\n",
       "    </tr>\n",
       "  </tbody>\n",
       "</table>\n",
       "</div>"
      ],
      "text/plain": [
       "        HSCODE COUNTRYEXPORT  CUSTOMSVALUE CURRENCY  DUTIABLE_FOREIGN  \\\n",
       "0  73011000000         CHINA     216000.00      USD         229438.89   \n",
       "1  38244000000         JAPAN      46200.00      USD         150304.00   \n",
       "2  84313990000         CHINA    1730190.00      USD        1831866.89   \n",
       "3  73089099000         CHINA     752933.08      USD         797180.18   \n",
       "4  84283990000         CHINA     202038.82      USD         213911.90   \n",
       "\n",
       "   EXCHANGE_RATE  DUTIABLEVALUEPHP    FREIGHT  INSURANCE PREF_CODE  DUTY_PAID  \\\n",
       "0         51.033       11708955.00   13364.00      74.89     ACFTA          0   \n",
       "1         51.033        7670464.00  103180.00     924.00     JPEPA          0   \n",
       "2         50.826       93106466.55   67073.09   34603.80     ACFTA          0   \n",
       "3         50.826       40517479.83   29188.44   15058.66     ACFTA          0   \n",
       "4         50.826       10872286.23    7832.30    4040.78     ACFTA          0   \n",
       "\n",
       "   VAT_PAID  EXCISEADVALOREM  DUTIESTAXES  \\\n",
       "0   1421907                0      1421907   \n",
       "1   1068958                0      1068958   \n",
       "2  11182987                0     11182987   \n",
       "3   4870064                0      4870064   \n",
       "4   1307109                0      1307109   \n",
       "\n",
       "                               GOODSDESCRIPTION  year  \n",
       "0  SHEET PILE Z SHAPE  770*343.5*8.5*12000 TOLE  2019  \n",
       "1  7,700MT CHEMICAL GYPSUM IN BULK FOR USE AS R  2019  \n",
       "2          PAN CONVEYOR BELT CONVEYOR COMPONENT  2019  \n",
       "3          GRID BRIDGE PROCESS AIR DUCT STORAGE  2019  \n",
       "4                                CHAIN CONVEYOR  2019  "
      ]
     },
     "execution_count": 24,
     "metadata": {},
     "output_type": "execute_result"
    }
   ],
   "source": [
    "df1 = pd.read_csv('customs2019.csv.gz', compression='gzip',\n",
    "                  usecols=['HSCODE', 'COUNTRYEXPORT', 'CUSTOMSVALUE',\n",
    "                           'CURRENCY', 'DUTIABLE_FOREIGN', 'EXCHANGE_RATE',\n",
    "                           'DUTIABLEVALUEPHP', 'FREIGHT', 'INSURANCE',\n",
    "                           'PREF_CODE', 'DUTY_PAID', 'VAT_PAID', \n",
    "                           'EXCISEADVALOREM', 'DUTIESTAXES',\n",
    "                           'GOODSDESCRIPTION', 'year'])\n",
    "df1.head()"
   ]
  },
  {
   "cell_type": "code",
   "execution_count": 7,
   "metadata": {
    "colab": {
     "base_uri": "https://localhost:8080/",
     "height": 317
    },
    "colab_type": "code",
    "id": "ljUDvX92S_h2",
    "outputId": "7343f79b-9b19-4b26-b4c2-bedf6e80a0be"
   },
   "outputs": [
    {
     "data": {
      "text/html": [
       "<div>\n",
       "<style scoped>\n",
       "    .dataframe tbody tr th:only-of-type {\n",
       "        vertical-align: middle;\n",
       "    }\n",
       "\n",
       "    .dataframe tbody tr th {\n",
       "        vertical-align: top;\n",
       "    }\n",
       "\n",
       "    .dataframe thead th {\n",
       "        text-align: right;\n",
       "    }\n",
       "</style>\n",
       "<table border=\"1\" class=\"dataframe\">\n",
       "  <thead>\n",
       "    <tr style=\"text-align: right;\">\n",
       "      <th></th>\n",
       "      <th>HSCODE</th>\n",
       "      <th>CUSTOMSVALUE</th>\n",
       "      <th>DUTIABLE_FOREIGN</th>\n",
       "      <th>EXCHANGE_RATE</th>\n",
       "      <th>DUTIABLEVALUEPHP</th>\n",
       "      <th>FREIGHT</th>\n",
       "      <th>INSURANCE</th>\n",
       "      <th>DUTY_PAID</th>\n",
       "      <th>VAT_PAID</th>\n",
       "      <th>EXCISEADVALOREM</th>\n",
       "      <th>DUTIESTAXES</th>\n",
       "      <th>year</th>\n",
       "    </tr>\n",
       "  </thead>\n",
       "  <tbody>\n",
       "    <tr>\n",
       "      <th>count</th>\n",
       "      <td>3.794776e+06</td>\n",
       "      <td>3.794776e+06</td>\n",
       "      <td>3.794776e+06</td>\n",
       "      <td>3.794776e+06</td>\n",
       "      <td>3.794776e+06</td>\n",
       "      <td>3.794776e+06</td>\n",
       "      <td>3.794776e+06</td>\n",
       "      <td>3.794776e+06</td>\n",
       "      <td>3.794776e+06</td>\n",
       "      <td>3.794776e+06</td>\n",
       "      <td>3.794776e+06</td>\n",
       "      <td>3794776.0</td>\n",
       "    </tr>\n",
       "    <tr>\n",
       "      <th>mean</th>\n",
       "      <td>6.923999e+10</td>\n",
       "      <td>9.210593e+04</td>\n",
       "      <td>9.573394e+04</td>\n",
       "      <td>5.153954e+01</td>\n",
       "      <td>2.883647e+06</td>\n",
       "      <td>2.779397e+03</td>\n",
       "      <td>7.778899e+02</td>\n",
       "      <td>3.567569e+04</td>\n",
       "      <td>3.351352e+05</td>\n",
       "      <td>3.074327e+04</td>\n",
       "      <td>1.604089e+05</td>\n",
       "      <td>2019.0</td>\n",
       "    </tr>\n",
       "    <tr>\n",
       "      <th>std</th>\n",
       "      <td>2.331668e+10</td>\n",
       "      <td>4.389686e+07</td>\n",
       "      <td>4.395284e+07</td>\n",
       "      <td>4.024134e+00</td>\n",
       "      <td>2.303371e+09</td>\n",
       "      <td>2.067272e+06</td>\n",
       "      <td>4.715231e+04</td>\n",
       "      <td>3.298769e+06</td>\n",
       "      <td>2.767941e+08</td>\n",
       "      <td>4.686981e+06</td>\n",
       "      <td>3.256353e+06</td>\n",
       "      <td>0.0</td>\n",
       "    </tr>\n",
       "    <tr>\n",
       "      <th>min</th>\n",
       "      <td>1.012100e+09</td>\n",
       "      <td>1.000000e-02</td>\n",
       "      <td>1.000000e-02</td>\n",
       "      <td>4.000000e-03</td>\n",
       "      <td>5.100000e-01</td>\n",
       "      <td>0.000000e+00</td>\n",
       "      <td>0.000000e+00</td>\n",
       "      <td>0.000000e+00</td>\n",
       "      <td>0.000000e+00</td>\n",
       "      <td>0.000000e+00</td>\n",
       "      <td>0.000000e+00</td>\n",
       "      <td>2019.0</td>\n",
       "    </tr>\n",
       "    <tr>\n",
       "      <th>25%</th>\n",
       "      <td>4.821109e+10</td>\n",
       "      <td>3.182400e+02</td>\n",
       "      <td>3.632900e+02</td>\n",
       "      <td>5.110700e+01</td>\n",
       "      <td>1.868900e+04</td>\n",
       "      <td>7.830000e+00</td>\n",
       "      <td>2.420000e+00</td>\n",
       "      <td>0.000000e+00</td>\n",
       "      <td>2.063000e+03</td>\n",
       "      <td>0.000000e+00</td>\n",
       "      <td>0.000000e+00</td>\n",
       "      <td>2019.0</td>\n",
       "    </tr>\n",
       "    <tr>\n",
       "      <th>50%</th>\n",
       "      <td>8.414903e+10</td>\n",
       "      <td>2.050000e+03</td>\n",
       "      <td>2.237560e+03</td>\n",
       "      <td>5.200100e+01</td>\n",
       "      <td>1.145765e+05</td>\n",
       "      <td>5.509000e+01</td>\n",
       "      <td>2.660000e+01</td>\n",
       "      <td>2.710000e+02</td>\n",
       "      <td>1.284200e+04</td>\n",
       "      <td>0.000000e+00</td>\n",
       "      <td>2.300000e+02</td>\n",
       "      <td>2019.0</td>\n",
       "    </tr>\n",
       "    <tr>\n",
       "      <th>75%</th>\n",
       "      <td>8.536700e+10</td>\n",
       "      <td>1.242024e+04</td>\n",
       "      <td>1.326853e+04</td>\n",
       "      <td>5.233900e+01</td>\n",
       "      <td>6.727522e+05</td>\n",
       "      <td>3.014500e+02</td>\n",
       "      <td>1.793300e+02</td>\n",
       "      <td>6.792000e+03</td>\n",
       "      <td>7.241500e+04</td>\n",
       "      <td>0.000000e+00</td>\n",
       "      <td>2.835800e+04</td>\n",
       "      <td>2019.0</td>\n",
       "    </tr>\n",
       "    <tr>\n",
       "      <th>max</th>\n",
       "      <td>9.706000e+10</td>\n",
       "      <td>8.533109e+10</td>\n",
       "      <td>8.533109e+10</td>\n",
       "      <td>6.965200e+01</td>\n",
       "      <td>4.481760e+12</td>\n",
       "      <td>4.019379e+09</td>\n",
       "      <td>7.940000e+07</td>\n",
       "      <td>6.374059e+09</td>\n",
       "      <td>5.384834e+11</td>\n",
       "      <td>8.496222e+09</td>\n",
       "      <td>6.919788e+08</td>\n",
       "      <td>2019.0</td>\n",
       "    </tr>\n",
       "  </tbody>\n",
       "</table>\n",
       "</div>"
      ],
      "text/plain": [
       "             HSCODE  CUSTOMSVALUE  DUTIABLE_FOREIGN  EXCHANGE_RATE  \\\n",
       "count  3.794776e+06  3.794776e+06      3.794776e+06   3.794776e+06   \n",
       "mean   6.923999e+10  9.210593e+04      9.573394e+04   5.153954e+01   \n",
       "std    2.331668e+10  4.389686e+07      4.395284e+07   4.024134e+00   \n",
       "min    1.012100e+09  1.000000e-02      1.000000e-02   4.000000e-03   \n",
       "25%    4.821109e+10  3.182400e+02      3.632900e+02   5.110700e+01   \n",
       "50%    8.414903e+10  2.050000e+03      2.237560e+03   5.200100e+01   \n",
       "75%    8.536700e+10  1.242024e+04      1.326853e+04   5.233900e+01   \n",
       "max    9.706000e+10  8.533109e+10      8.533109e+10   6.965200e+01   \n",
       "\n",
       "       DUTIABLEVALUEPHP       FREIGHT     INSURANCE     DUTY_PAID  \\\n",
       "count      3.794776e+06  3.794776e+06  3.794776e+06  3.794776e+06   \n",
       "mean       2.883647e+06  2.779397e+03  7.778899e+02  3.567569e+04   \n",
       "std        2.303371e+09  2.067272e+06  4.715231e+04  3.298769e+06   \n",
       "min        5.100000e-01  0.000000e+00  0.000000e+00  0.000000e+00   \n",
       "25%        1.868900e+04  7.830000e+00  2.420000e+00  0.000000e+00   \n",
       "50%        1.145765e+05  5.509000e+01  2.660000e+01  2.710000e+02   \n",
       "75%        6.727522e+05  3.014500e+02  1.793300e+02  6.792000e+03   \n",
       "max        4.481760e+12  4.019379e+09  7.940000e+07  6.374059e+09   \n",
       "\n",
       "           VAT_PAID  EXCISEADVALOREM   DUTIESTAXES       year  \n",
       "count  3.794776e+06     3.794776e+06  3.794776e+06  3794776.0  \n",
       "mean   3.351352e+05     3.074327e+04  1.604089e+05     2019.0  \n",
       "std    2.767941e+08     4.686981e+06  3.256353e+06        0.0  \n",
       "min    0.000000e+00     0.000000e+00  0.000000e+00     2019.0  \n",
       "25%    2.063000e+03     0.000000e+00  0.000000e+00     2019.0  \n",
       "50%    1.284200e+04     0.000000e+00  2.300000e+02     2019.0  \n",
       "75%    7.241500e+04     0.000000e+00  2.835800e+04     2019.0  \n",
       "max    5.384834e+11     8.496222e+09  6.919788e+08     2019.0  "
      ]
     },
     "execution_count": 7,
     "metadata": {},
     "output_type": "execute_result"
    }
   ],
   "source": [
    "df1.describe()"
   ]
  },
  {
   "cell_type": "markdown",
   "metadata": {
    "colab_type": "text",
    "id": "79ujf6T-DR2s"
   },
   "source": [
    "## 3.2 Get HS Chapter Description \n",
    "\n",
    "This report focuses on the broader categories of imported goods, also known as HS Chapters. Descriptions for HS Chapters are available online [5](https://www.foreign-trade.com/reference/hscode.htm?cat=1). A separate file `hschapters.csv` was created as a reference, which contains the two-digit HS Chapters together with the respective description.\n",
    "\n"
   ]
  },
  {
   "cell_type": "code",
   "execution_count": 8,
   "metadata": {
    "colab": {
     "base_uri": "https://localhost:8080/",
     "height": 204
    },
    "colab_type": "code",
    "id": "QxHhQEUTDR2u",
    "outputId": "b238ed3d-dbef-4255-83ab-12548effcafe"
   },
   "outputs": [
    {
     "data": {
      "text/html": [
       "<div>\n",
       "<style scoped>\n",
       "    .dataframe tbody tr th:only-of-type {\n",
       "        vertical-align: middle;\n",
       "    }\n",
       "\n",
       "    .dataframe tbody tr th {\n",
       "        vertical-align: top;\n",
       "    }\n",
       "\n",
       "    .dataframe thead th {\n",
       "        text-align: right;\n",
       "    }\n",
       "</style>\n",
       "<table border=\"1\" class=\"dataframe\">\n",
       "  <thead>\n",
       "    <tr style=\"text-align: right;\">\n",
       "      <th></th>\n",
       "      <th>HS2</th>\n",
       "      <th>HS Description</th>\n",
       "    </tr>\n",
       "  </thead>\n",
       "  <tbody>\n",
       "    <tr>\n",
       "      <th>0</th>\n",
       "      <td>01</td>\n",
       "      <td>Live animals</td>\n",
       "    </tr>\n",
       "    <tr>\n",
       "      <th>1</th>\n",
       "      <td>02</td>\n",
       "      <td>Meat</td>\n",
       "    </tr>\n",
       "    <tr>\n",
       "      <th>2</th>\n",
       "      <td>03</td>\n",
       "      <td>Fish and crustaceans</td>\n",
       "    </tr>\n",
       "    <tr>\n",
       "      <th>3</th>\n",
       "      <td>04</td>\n",
       "      <td>Dairy produce</td>\n",
       "    </tr>\n",
       "    <tr>\n",
       "      <th>4</th>\n",
       "      <td>05</td>\n",
       "      <td>Products of animal origin</td>\n",
       "    </tr>\n",
       "  </tbody>\n",
       "</table>\n",
       "</div>"
      ],
      "text/plain": [
       "  HS2             HS Description\n",
       "0  01               Live animals\n",
       "1  02                      Meat \n",
       "2  03       Fish and crustaceans\n",
       "3  04              Dairy produce\n",
       "4  05  Products of animal origin"
      ]
     },
     "execution_count": 8,
     "metadata": {},
     "output_type": "execute_result"
    }
   ],
   "source": [
    "hscode = pd.read_csv('hschapters.csv', names=['HS2', 'HS Description'],\n",
    "                     header=0, dtype={'HS2': object})\n",
    "hscode.head()"
   ]
  },
  {
   "cell_type": "markdown",
   "metadata": {
    "colab_type": "text",
    "id": "6B_8k1faDR20"
   },
   "source": [
    "## 3.3 Check Column Values\n",
    "\n",
    "A quick scan of the columns of the data was done and it was noted that some of the data were inconsistent. For example, `DUTIABLEVALUEPHP` should be equal to `DUTIABLE_FOREIGN` multiplied by `EXCHANGE_RATE` but the data showed a huge discrepancy between the actual and computed value `DUTIABLEVALUEPHP`. The same inaccuracy can be observed on the computation of `DUTIESTAXES` where it should be the sum of `DUTY_PAID + VAT_PAID + EXCISEADVALOREM`. But due to the lack of domain knowledge in this area, it is hard to pinpoint which of the transactions and columns are erroneous. It was assumed that the errors in `DUTY_PAID, VAT_PAID, EXCISEADVALOREM`, `DUTIABLE_FOREIGN` contributed to the discrepancy and so `DUTIESTAXES` and `DUTIABLEVALUEPHP` were mainly used in computations."
   ]
  },
  {
   "cell_type": "markdown",
   "metadata": {
    "colab_type": "text",
    "id": "HIF74a3CDR21"
   },
   "source": [
    "## 3.4 Exclude rows with DUTIESTAXES higher than DUTIABLEVALUEPHP\n",
    "\n",
    "Upon exploring the entire dataset, we noticed that 11,222 of the 3,794,776 ($0.2957\\%$) records have `DUTIESTAXES` values greater than their corresponding `DUTIABLEVALUEPHP` values. Furthermore, when we calculated the total value of `DUTIESTAXES` for these records, the total value comprises $2.75\\%$ of the overall value of `DUTIESTAXES` for 2019. \n",
    "\n",
    "There is not enough information as to why some records involve higher duties and taxes paid than the dutiable value. Hence, in this study, we decided to focus only on transactions with duties and taxes less than the corresponding dutiable value in PHP. Note that focusing only on these transactions will still provide significant results given that these transactions compose $97.5\\%$ of the total duties and taxes collected by the Bureau of Customs in 2019. \n",
    "\n"
   ]
  },
  {
   "cell_type": "code",
   "execution_count": 9,
   "metadata": {
    "colab": {
     "base_uri": "https://localhost:8080/",
     "height": 377
    },
    "colab_type": "code",
    "id": "edW350V9DR22",
    "outputId": "8c5c1f20-6cc3-49ce-a13e-a9caf3e442a1"
   },
   "outputs": [
    {
     "data": {
      "text/html": [
       "<div>\n",
       "<style scoped>\n",
       "    .dataframe tbody tr th:only-of-type {\n",
       "        vertical-align: middle;\n",
       "    }\n",
       "\n",
       "    .dataframe tbody tr th {\n",
       "        vertical-align: top;\n",
       "    }\n",
       "\n",
       "    .dataframe thead th {\n",
       "        text-align: right;\n",
       "    }\n",
       "</style>\n",
       "<table border=\"1\" class=\"dataframe\">\n",
       "  <thead>\n",
       "    <tr style=\"text-align: right;\">\n",
       "      <th></th>\n",
       "      <th>HSCODE</th>\n",
       "      <th>COUNTRYEXPORT</th>\n",
       "      <th>CUSTOMSVALUE</th>\n",
       "      <th>CURRENCY</th>\n",
       "      <th>DUTIABLE_FOREIGN</th>\n",
       "      <th>EXCHANGE_RATE</th>\n",
       "      <th>DUTIABLEVALUEPHP</th>\n",
       "      <th>FREIGHT</th>\n",
       "      <th>INSURANCE</th>\n",
       "      <th>PREF_CODE</th>\n",
       "      <th>DUTY_PAID</th>\n",
       "      <th>VAT_PAID</th>\n",
       "      <th>EXCISEADVALOREM</th>\n",
       "      <th>DUTIESTAXES</th>\n",
       "      <th>GOODSDESCRIPTION</th>\n",
       "      <th>year</th>\n",
       "    </tr>\n",
       "  </thead>\n",
       "  <tbody>\n",
       "    <tr>\n",
       "      <th>0</th>\n",
       "      <td>73011000000</td>\n",
       "      <td>CHINA</td>\n",
       "      <td>216000.00</td>\n",
       "      <td>USD</td>\n",
       "      <td>229438.89</td>\n",
       "      <td>51.033</td>\n",
       "      <td>11708955.00</td>\n",
       "      <td>13364.00</td>\n",
       "      <td>74.89</td>\n",
       "      <td>ACFTA</td>\n",
       "      <td>0</td>\n",
       "      <td>1421907</td>\n",
       "      <td>0</td>\n",
       "      <td>1421907</td>\n",
       "      <td>SHEET PILE Z SHAPE  770*343.5*8.5*12000 TOLE</td>\n",
       "      <td>2019</td>\n",
       "    </tr>\n",
       "    <tr>\n",
       "      <th>1</th>\n",
       "      <td>38244000000</td>\n",
       "      <td>JAPAN</td>\n",
       "      <td>46200.00</td>\n",
       "      <td>USD</td>\n",
       "      <td>150304.00</td>\n",
       "      <td>51.033</td>\n",
       "      <td>7670464.00</td>\n",
       "      <td>103180.00</td>\n",
       "      <td>924.00</td>\n",
       "      <td>JPEPA</td>\n",
       "      <td>0</td>\n",
       "      <td>1068958</td>\n",
       "      <td>0</td>\n",
       "      <td>1068958</td>\n",
       "      <td>7,700MT CHEMICAL GYPSUM IN BULK FOR USE AS R</td>\n",
       "      <td>2019</td>\n",
       "    </tr>\n",
       "    <tr>\n",
       "      <th>2</th>\n",
       "      <td>84313990000</td>\n",
       "      <td>CHINA</td>\n",
       "      <td>1730190.00</td>\n",
       "      <td>USD</td>\n",
       "      <td>1831866.89</td>\n",
       "      <td>50.826</td>\n",
       "      <td>93106466.55</td>\n",
       "      <td>67073.09</td>\n",
       "      <td>34603.80</td>\n",
       "      <td>ACFTA</td>\n",
       "      <td>0</td>\n",
       "      <td>11182987</td>\n",
       "      <td>0</td>\n",
       "      <td>11182987</td>\n",
       "      <td>PAN CONVEYOR BELT CONVEYOR COMPONENT</td>\n",
       "      <td>2019</td>\n",
       "    </tr>\n",
       "    <tr>\n",
       "      <th>3</th>\n",
       "      <td>73089099000</td>\n",
       "      <td>CHINA</td>\n",
       "      <td>752933.08</td>\n",
       "      <td>USD</td>\n",
       "      <td>797180.18</td>\n",
       "      <td>50.826</td>\n",
       "      <td>40517479.83</td>\n",
       "      <td>29188.44</td>\n",
       "      <td>15058.66</td>\n",
       "      <td>ACFTA</td>\n",
       "      <td>0</td>\n",
       "      <td>4870064</td>\n",
       "      <td>0</td>\n",
       "      <td>4870064</td>\n",
       "      <td>GRID BRIDGE PROCESS AIR DUCT STORAGE</td>\n",
       "      <td>2019</td>\n",
       "    </tr>\n",
       "    <tr>\n",
       "      <th>4</th>\n",
       "      <td>84283990000</td>\n",
       "      <td>CHINA</td>\n",
       "      <td>202038.82</td>\n",
       "      <td>USD</td>\n",
       "      <td>213911.90</td>\n",
       "      <td>50.826</td>\n",
       "      <td>10872286.23</td>\n",
       "      <td>7832.30</td>\n",
       "      <td>4040.78</td>\n",
       "      <td>ACFTA</td>\n",
       "      <td>0</td>\n",
       "      <td>1307109</td>\n",
       "      <td>0</td>\n",
       "      <td>1307109</td>\n",
       "      <td>CHAIN CONVEYOR</td>\n",
       "      <td>2019</td>\n",
       "    </tr>\n",
       "  </tbody>\n",
       "</table>\n",
       "</div>"
      ],
      "text/plain": [
       "        HSCODE COUNTRYEXPORT  CUSTOMSVALUE CURRENCY  DUTIABLE_FOREIGN  \\\n",
       "0  73011000000         CHINA     216000.00      USD         229438.89   \n",
       "1  38244000000         JAPAN      46200.00      USD         150304.00   \n",
       "2  84313990000         CHINA    1730190.00      USD        1831866.89   \n",
       "3  73089099000         CHINA     752933.08      USD         797180.18   \n",
       "4  84283990000         CHINA     202038.82      USD         213911.90   \n",
       "\n",
       "   EXCHANGE_RATE  DUTIABLEVALUEPHP    FREIGHT  INSURANCE PREF_CODE  DUTY_PAID  \\\n",
       "0         51.033       11708955.00   13364.00      74.89     ACFTA          0   \n",
       "1         51.033        7670464.00  103180.00     924.00     JPEPA          0   \n",
       "2         50.826       93106466.55   67073.09   34603.80     ACFTA          0   \n",
       "3         50.826       40517479.83   29188.44   15058.66     ACFTA          0   \n",
       "4         50.826       10872286.23    7832.30    4040.78     ACFTA          0   \n",
       "\n",
       "   VAT_PAID  EXCISEADVALOREM  DUTIESTAXES  \\\n",
       "0   1421907                0      1421907   \n",
       "1   1068958                0      1068958   \n",
       "2  11182987                0     11182987   \n",
       "3   4870064                0      4870064   \n",
       "4   1307109                0      1307109   \n",
       "\n",
       "                               GOODSDESCRIPTION  year  \n",
       "0  SHEET PILE Z SHAPE  770*343.5*8.5*12000 TOLE  2019  \n",
       "1  7,700MT CHEMICAL GYPSUM IN BULK FOR USE AS R  2019  \n",
       "2          PAN CONVEYOR BELT CONVEYOR COMPONENT  2019  \n",
       "3          GRID BRIDGE PROCESS AIR DUCT STORAGE  2019  \n",
       "4                                CHAIN CONVEYOR  2019  "
      ]
     },
     "execution_count": 9,
     "metadata": {},
     "output_type": "execute_result"
    }
   ],
   "source": [
    "df = df1[df1[\"DUTIESTAXES\"] <= df1[\"DUTIABLEVALUEPHP\"]].copy()\n",
    "#df.describe()\n",
    "df.head()"
   ]
  },
  {
   "cell_type": "markdown",
   "metadata": {
    "colab_type": "text",
    "id": "rR6TwgfdDR28"
   },
   "source": [
    "## 3.5 Add new columns\n",
    "\n",
    "Every two digits of the `HSCODE` represent a category with the first two digits representing a general category and the next pairs represent more specific subcategories under the main category. HS Chapter of goods imported is not included in the raw data but it can be derived from the `HSCODE` column by getting the first two digits of the `HSCODE`. \n",
    "\n",
    "`DUTIESRATIO` new column was computed from `DUTIABLEVALUEPHP` divided by `DUTIESTAXES`.\n",
    "\n",
    "`MONTH` and `YEAR` columns were added during the file consolidation.\n",
    "\n",
    "<div class = \"table1\">\n",
    "\n",
    "|Variable Name                           | Definition | Data Type |\n",
    "|:-|:-|:-|\n",
    "|MONTH                                   |Month of the Transaction | String |\n",
    "|YEAR                                    |Year of the Transaction | Integer |\n",
    "|HS2                                     |HS Chapter; First 2 digits of HSCODE  | String |\n",
    "|DUTIESRATIO                             |Ratio of DUTIESTAXES to DUTIABLEVALUEPHP | Float |\n",
    "</div>\n",
    "\n",
    " \n",
    "\n",
    "<center><i><b>Table 2:</b> Additional Columns for Processing</i></center>\n"
   ]
  },
  {
   "cell_type": "code",
   "execution_count": 10,
   "metadata": {
    "ExecuteTime": {
     "end_time": "2020-06-05T12:26:02.425064Z",
     "start_time": "2020-06-05T12:26:02.412426Z"
    },
    "colab": {
     "base_uri": "https://localhost:8080/",
     "height": 377
    },
    "colab_type": "code",
    "id": "0qYvN7T4DR2-",
    "outputId": "ef8e580b-d88a-41ee-9973-e5164402dc78"
   },
   "outputs": [
    {
     "data": {
      "text/html": [
       "<div>\n",
       "<style scoped>\n",
       "    .dataframe tbody tr th:only-of-type {\n",
       "        vertical-align: middle;\n",
       "    }\n",
       "\n",
       "    .dataframe tbody tr th {\n",
       "        vertical-align: top;\n",
       "    }\n",
       "\n",
       "    .dataframe thead th {\n",
       "        text-align: right;\n",
       "    }\n",
       "</style>\n",
       "<table border=\"1\" class=\"dataframe\">\n",
       "  <thead>\n",
       "    <tr style=\"text-align: right;\">\n",
       "      <th></th>\n",
       "      <th>HSCODE</th>\n",
       "      <th>HS2</th>\n",
       "      <th>COUNTRYEXPORT</th>\n",
       "      <th>CUSTOMSVALUE</th>\n",
       "      <th>CURRENCY</th>\n",
       "      <th>DUTIABLE_FOREIGN</th>\n",
       "      <th>EXCHANGE_RATE</th>\n",
       "      <th>DUTIABLEVALUEPHP</th>\n",
       "      <th>FREIGHT</th>\n",
       "      <th>INSURANCE</th>\n",
       "      <th>PREF_CODE</th>\n",
       "      <th>DUTY_PAID</th>\n",
       "      <th>VAT_PAID</th>\n",
       "      <th>EXCISEADVALOREM</th>\n",
       "      <th>DUTIESTAXES</th>\n",
       "      <th>GOODSDESCRIPTION</th>\n",
       "      <th>year</th>\n",
       "      <th>HS Description</th>\n",
       "    </tr>\n",
       "  </thead>\n",
       "  <tbody>\n",
       "    <tr>\n",
       "      <th>0</th>\n",
       "      <td>73011000000</td>\n",
       "      <td>73</td>\n",
       "      <td>CHINA</td>\n",
       "      <td>216000.00</td>\n",
       "      <td>USD</td>\n",
       "      <td>229438.89</td>\n",
       "      <td>51.033</td>\n",
       "      <td>11708955.00</td>\n",
       "      <td>13364.00</td>\n",
       "      <td>74.89</td>\n",
       "      <td>ACFTA</td>\n",
       "      <td>0</td>\n",
       "      <td>1421907</td>\n",
       "      <td>0</td>\n",
       "      <td>1421907</td>\n",
       "      <td>SHEET PILE Z SHAPE  770*343.5*8.5*12000 TOLE</td>\n",
       "      <td>2019</td>\n",
       "      <td>Articles of iron or steel</td>\n",
       "    </tr>\n",
       "    <tr>\n",
       "      <th>1</th>\n",
       "      <td>73089099000</td>\n",
       "      <td>73</td>\n",
       "      <td>CHINA</td>\n",
       "      <td>752933.08</td>\n",
       "      <td>USD</td>\n",
       "      <td>797180.18</td>\n",
       "      <td>50.826</td>\n",
       "      <td>40517479.83</td>\n",
       "      <td>29188.44</td>\n",
       "      <td>15058.66</td>\n",
       "      <td>ACFTA</td>\n",
       "      <td>0</td>\n",
       "      <td>4870064</td>\n",
       "      <td>0</td>\n",
       "      <td>4870064</td>\n",
       "      <td>GRID BRIDGE PROCESS AIR DUCT STORAGE</td>\n",
       "      <td>2019</td>\n",
       "      <td>Articles of iron or steel</td>\n",
       "    </tr>\n",
       "    <tr>\n",
       "      <th>2</th>\n",
       "      <td>73251090000</td>\n",
       "      <td>73</td>\n",
       "      <td>CHINA</td>\n",
       "      <td>156748.18</td>\n",
       "      <td>USD</td>\n",
       "      <td>165959.69</td>\n",
       "      <td>50.826</td>\n",
       "      <td>8435067.20</td>\n",
       "      <td>6076.55</td>\n",
       "      <td>3134.96</td>\n",
       "      <td>ACFTA</td>\n",
       "      <td>0</td>\n",
       "      <td>1014430</td>\n",
       "      <td>0</td>\n",
       "      <td>1014430</td>\n",
       "      <td>HEAT RESISTANT STEEL</td>\n",
       "      <td>2019</td>\n",
       "      <td>Articles of iron or steel</td>\n",
       "    </tr>\n",
       "    <tr>\n",
       "      <th>3</th>\n",
       "      <td>73079990000</td>\n",
       "      <td>73</td>\n",
       "      <td>CHINA</td>\n",
       "      <td>67502.93</td>\n",
       "      <td>USD</td>\n",
       "      <td>71469.83</td>\n",
       "      <td>50.826</td>\n",
       "      <td>3632525.58</td>\n",
       "      <td>2616.84</td>\n",
       "      <td>1350.06</td>\n",
       "      <td>ACFTA</td>\n",
       "      <td>0</td>\n",
       "      <td>437782</td>\n",
       "      <td>0</td>\n",
       "      <td>437782</td>\n",
       "      <td>EXPANSION JOINT</td>\n",
       "      <td>2019</td>\n",
       "      <td>Articles of iron or steel</td>\n",
       "    </tr>\n",
       "    <tr>\n",
       "      <th>4</th>\n",
       "      <td>73090019000</td>\n",
       "      <td>73</td>\n",
       "      <td>CHINA</td>\n",
       "      <td>20919.07</td>\n",
       "      <td>USD</td>\n",
       "      <td>22148.41</td>\n",
       "      <td>50.826</td>\n",
       "      <td>1125715.09</td>\n",
       "      <td>810.96</td>\n",
       "      <td>418.38</td>\n",
       "      <td>ACFTA</td>\n",
       "      <td>0</td>\n",
       "      <td>136784</td>\n",
       "      <td>0</td>\n",
       "      <td>136784</td>\n",
       "      <td>WATER TANK</td>\n",
       "      <td>2019</td>\n",
       "      <td>Articles of iron or steel</td>\n",
       "    </tr>\n",
       "  </tbody>\n",
       "</table>\n",
       "</div>"
      ],
      "text/plain": [
       "        HSCODE HS2 COUNTRYEXPORT  CUSTOMSVALUE CURRENCY  DUTIABLE_FOREIGN  \\\n",
       "0  73011000000  73         CHINA     216000.00      USD         229438.89   \n",
       "1  73089099000  73         CHINA     752933.08      USD         797180.18   \n",
       "2  73251090000  73         CHINA     156748.18      USD         165959.69   \n",
       "3  73079990000  73         CHINA      67502.93      USD          71469.83   \n",
       "4  73090019000  73         CHINA      20919.07      USD          22148.41   \n",
       "\n",
       "   EXCHANGE_RATE  DUTIABLEVALUEPHP   FREIGHT  INSURANCE PREF_CODE  DUTY_PAID  \\\n",
       "0         51.033       11708955.00  13364.00      74.89     ACFTA          0   \n",
       "1         50.826       40517479.83  29188.44   15058.66     ACFTA          0   \n",
       "2         50.826        8435067.20   6076.55    3134.96     ACFTA          0   \n",
       "3         50.826        3632525.58   2616.84    1350.06     ACFTA          0   \n",
       "4         50.826        1125715.09    810.96     418.38     ACFTA          0   \n",
       "\n",
       "   VAT_PAID  EXCISEADVALOREM  DUTIESTAXES  \\\n",
       "0   1421907                0      1421907   \n",
       "1   4870064                0      4870064   \n",
       "2   1014430                0      1014430   \n",
       "3    437782                0       437782   \n",
       "4    136784                0       136784   \n",
       "\n",
       "                               GOODSDESCRIPTION  year  \\\n",
       "0  SHEET PILE Z SHAPE  770*343.5*8.5*12000 TOLE  2019   \n",
       "1          GRID BRIDGE PROCESS AIR DUCT STORAGE  2019   \n",
       "2                          HEAT RESISTANT STEEL  2019   \n",
       "3                               EXPANSION JOINT  2019   \n",
       "4                                    WATER TANK  2019   \n",
       "\n",
       "              HS Description  \n",
       "0  Articles of iron or steel  \n",
       "1  Articles of iron or steel  \n",
       "2  Articles of iron or steel  \n",
       "3  Articles of iron or steel  \n",
       "4  Articles of iron or steel  "
      ]
     },
     "execution_count": 10,
     "metadata": {},
     "output_type": "execute_result"
    }
   ],
   "source": [
    "hs_2digit = df['HSCODE'].astype(str).str[:2].tolist()\n",
    "df.insert(loc=1, column='HS2', value=hs_2digit)\n",
    "df = pd.merge(df, hscode, on='HS2')\n",
    "df.head()"
   ]
  },
  {
   "cell_type": "markdown",
   "metadata": {
    "colab_type": "text",
    "id": "D50anQ_LDR3e"
   },
   "source": [
    "# <span style=\"color:darkblue\">4. Exploratory Data Analysis</span> "
   ]
  },
  {
   "cell_type": "markdown",
   "metadata": {
    "ExecuteTime": {
     "end_time": "2020-06-05T09:23:49.175580Z",
     "start_time": "2020-06-05T09:23:49.169599Z"
    },
    "colab_type": "text",
    "id": "JdJeGvwqDR3h"
   },
   "source": [
    "### TOP COUNTRIES IN TERMS OF DUTIES AND TAXES PAID IN 2019"
   ]
  },
  {
   "cell_type": "code",
   "execution_count": 11,
   "metadata": {
    "ExecuteTime": {
     "end_time": "2020-06-05T12:31:37.484431Z",
     "start_time": "2020-06-05T12:31:35.164546Z"
    },
    "colab": {
     "base_uri": "https://localhost:8080/",
     "height": 477
    },
    "colab_type": "code",
    "id": "SmEvWkR7DR3m",
    "outputId": "3025dffc-2356-485f-c95c-f0445ada9fee"
   },
   "outputs": [
    {
     "data": {
      "image/png": "[encoded data removed]",
      "text/plain": [
       "<Figure size 1080x576 with 1 Axes>"
      ]
     },
     "metadata": {
      "needs_background": "light"
     },
     "output_type": "display_data"
    }
   ],
   "source": [
    "top_tax19 = (df.groupby(\"COUNTRYEXPORT\")[[\"COUNTRYEXPORT\",\"DUTIESTAXES\"]]\n",
    "             .agg(sum).nlargest(10, columns=\"DUTIESTAXES\").reset_index())\n",
    "top_tax19 = top_tax19.rename(columns={\"DUTIESTAXES\" : \"TOTAL_DUTIESTAX\"})\n",
    "\n",
    "fig, ax = plt.subplots(figsize=(15, 8), constrained_layout=True)\n",
    "\n",
    "\n",
    "sns.barplot(x=\"TOTAL_DUTIESTAX\", y=\"COUNTRYEXPORT\", \n",
    "            data=top_tax19)\n",
    "ax.set_title(\"TOP 10 IMPORT COUNTRIES WITH HIGHEST DUTIES AND TAXES FOR 2019\")\n",
    "ax.set_xlabel(\"TOTAL DUTIES TAX (in hundred billion PhP)\")\n",
    "\n",
    "ax;"
   ]
  },
  {
   "cell_type": "markdown",
   "metadata": {
    "colab_type": "text",
    "id": "LcaUbRpbDR3t"
   },
   "source": [
    "In the previous graph, we can see the 10 largest countries by total duties and tax collection in hundreds of billion of PHP for the year 2019. From the graph, it is possible to see the scale of each country's contribution to the total, with China, the top country, contributing more than double that of the second country, Korea. <br>\n",
    "\n",
    "It is also important to mention that the top 4 countries in terms of contribution to duties and taxes correspond to a proportion of around 50% shown below."
   ]
  },
  {
   "cell_type": "code",
   "execution_count": 12,
   "metadata": {
    "ExecuteTime": {
     "end_time": "2020-06-05T12:31:38.358611Z",
     "start_time": "2020-06-05T12:31:37.486273Z"
    },
    "colab": {
     "base_uri": "https://localhost:8080/",
     "height": 34
    },
    "colab_type": "code",
    "id": "9Ye3z93KDR3u",
    "outputId": "1cf5b949-ba68-4706-e088-150b6bc26958",
    "scrolled": true
   },
   "outputs": [
    {
     "name": "stdout",
     "output_type": "stream",
     "text": [
      "Proportion of Duties/Taxes of the TOP 4 Countries (2019): 52.39%\n"
     ]
    }
   ],
   "source": [
    "print(\"Proportion of Duties/Taxes of the TOP 4 Countries (2019): {:.2f}%\"\n",
    "      .format(\n",
    "          sum(top_tax19.TOTAL_DUTIESTAX[:4]) / sum(df.DUTIESTAXES) * 100))"
   ]
  },
  {
   "cell_type": "markdown",
   "metadata": {
    "colab_type": "text",
    "id": "RrmZXCsnDR30"
   },
   "source": [
    "### TOP HS CHAPTERS BASED ON DUTIES AND TAXES"
   ]
  },
  {
   "cell_type": "code",
   "execution_count": 13,
   "metadata": {
    "ExecuteTime": {
     "end_time": "2020-06-05T12:31:44.419614Z",
     "start_time": "2020-06-05T12:31:42.862877Z"
    },
    "colab": {
     "base_uri": "https://localhost:8080/",
     "height": 590
    },
    "colab_type": "code",
    "id": "iB6HXHzBDR33",
    "outputId": "6ece16ae-7842-439b-c9b2-19241756b756"
   },
   "outputs": [
    {
     "data": {
      "image/png": "[encoded data removed]",
      "text/plain": [
       "<Figure size 1080x720 with 1 Axes>"
      ]
     },
     "metadata": {
      "needs_background": "light"
     },
     "output_type": "display_data"
    }
   ],
   "source": [
    "top_hs19 = (df.groupby(\"HS Description\")[[\"DUTIESTAXES\"]]\n",
    "            .agg(sum).nlargest(10, columns=\"DUTIESTAXES\").reset_index())\n",
    "\n",
    "\n",
    "fig, ax = plt.subplots(figsize=(15, 10), constrained_layout=True)\n",
    "\n",
    "\n",
    "sns.barplot(y=\"HS Description\", x=\"DUTIESTAXES\", data=top_hs19)\n",
    "ax.set_title(\"HS CHAPTERS WITH HIGHEST DUTIES+TAXES (2019)\")\n",
    "ax.set_xlabel(\"TOTAL DUTIES+TAX (in hundred billion PhP)\")\n",
    "\n",
    "ax;"
   ]
  },
  {
   "cell_type": "markdown",
   "metadata": {
    "colab_type": "text",
    "id": "lJh133kYDR4A"
   },
   "source": [
    "In the previous graph, we can see the duties and taxes collected for the top 10 countries for 2019 separated by chapters of the harmonized tariff system. From the graph, we can see a large portion of imported products correspond to mineral fuels and oils, including coal and petroleum.\n",
    "\n",
    "\n",
    "In the next sections, we analyze the data with more detail. \n",
    "\n",
    "Following this, you can find a proportion of the total amount of revenue collected by the Bureau of the principal 4 chapters of the harmonized tariff system."
   ]
  },
  {
   "cell_type": "code",
   "execution_count": 14,
   "metadata": {
    "ExecuteTime": {
     "end_time": "2020-06-05T12:31:48.426586Z",
     "start_time": "2020-06-05T12:31:47.502687Z"
    },
    "colab": {
     "base_uri": "https://localhost:8080/",
     "height": 34
    },
    "colab_type": "code",
    "id": "A-5azRUSDR4B",
    "outputId": "ba1606cd-66a7-4e0e-f6c7-cbfcb89b13e9"
   },
   "outputs": [
    {
     "name": "stdout",
     "output_type": "stream",
     "text": [
      "Proportion of the top 4 HS chapters by DUTIESTAXES (2019):  0.5811713578375313\n"
     ]
    }
   ],
   "source": [
    "print(\"Proportion of the top 4 HS chapters by DUTIESTAXES (2019): \", \n",
    "      sum(top_hs19.DUTIESTAXES[:4]) / sum(df.DUTIESTAXES))"
   ]
  },
  {
   "cell_type": "markdown",
   "metadata": {
    "colab_type": "text",
    "id": "4h-JVqZMDR4K"
   },
   "source": [
    "## 4.1 TOP COUNTRIES PER HS CHAPTER BASED ON DUTIES AND TAXES"
   ]
  },
  {
   "cell_type": "markdown",
   "metadata": {
    "colab_type": "text",
    "id": "PON1QFpDDR4L"
   },
   "source": [
    "In this section, we analyze the four origin countries of imports which paid the highest total duties and taxes in 2019. Note that the total duties and taxes collected from products imported from these four countries alone already comprise $38.8\\%$ of the total duties and taxes collected in 2019. After this, we determined the top 5 HS chapters of products for each of the four countries in terms of the total duties and taxes collected. It is worth noting that for each origin country of imports, the total duties and taxes collected for products under these top 5 HS chapters have an aggregate share of around $65\\% - 90\\%$ of the total duties and taxes collected from products originating from that country. Hence, the results of this analysis will still have significant inputs in terms of the overall analysis of the duties and taxes collected from imported products. "
   ]
  },
  {
   "cell_type": "markdown",
   "metadata": {
    "colab_type": "text",
    "id": "bzDlnoCTJWTG"
   },
   "source": [
    "As shown in the table below, products imported from `China`, `Republic of Korea (South Korea)`, `Indonesia` and `Singapore`provided the highest total duties and taxes in 2019. As mentioned, total duties and taxes collected from products originating from these countries compose $38.8\\%$ of the total duties and taxes collection in 2019."
   ]
  },
  {
   "cell_type": "markdown",
   "metadata": {
    "colab_type": "text",
    "id": "Kp2lm9-yXmEL"
   },
   "source": [
    "As shown in the table below, products imported from `China`, `Republic of Korea (South Korea)`, `Indonesia` and `Singapore`provided the highest total duties and taxes in 2019. As mentioned, total duties and taxes collected from products originating from these countries compose $38.8\\%$ of the total duties and taxes collection in 2019."
   ]
  },
  {
   "cell_type": "code",
   "execution_count": 15,
   "metadata": {
    "ExecuteTime": {
     "end_time": "2020-06-05T12:32:21.953507Z",
     "start_time": "2020-06-05T12:32:08.918267Z"
    },
    "colab": {
     "base_uri": "https://localhost:8080/",
     "height": 231
    },
    "colab_type": "code",
    "id": "nvnuav3RDR4M",
    "outputId": "5321edf6-9095-4eb9-efdf-50bb0e0223f9"
   },
   "outputs": [
    {
     "data": {
      "text/html": [
       "<div>\n",
       "<style scoped>\n",
       "    .dataframe tbody tr th:only-of-type {\n",
       "        vertical-align: middle;\n",
       "    }\n",
       "\n",
       "    .dataframe tbody tr th {\n",
       "        vertical-align: top;\n",
       "    }\n",
       "\n",
       "    .dataframe thead th {\n",
       "        text-align: right;\n",
       "    }\n",
       "</style>\n",
       "<table border=\"1\" class=\"dataframe\">\n",
       "  <thead>\n",
       "    <tr style=\"text-align: right;\">\n",
       "      <th></th>\n",
       "      <th>COUNTRYEXPORT</th>\n",
       "      <th>HS2</th>\n",
       "      <th>HS Description</th>\n",
       "      <th>DUTIABLEVALUEPHP</th>\n",
       "      <th>DUTIESTAXES</th>\n",
       "      <th>DUTIESRATIO</th>\n",
       "    </tr>\n",
       "  </thead>\n",
       "  <tbody>\n",
       "    <tr>\n",
       "      <th>0</th>\n",
       "      <td>CHINA</td>\n",
       "      <td>27</td>\n",
       "      <td>Mineral fuels, oils and products</td>\n",
       "      <td>1.834516e+11</td>\n",
       "      <td>56712039199</td>\n",
       "      <td>0.309139</td>\n",
       "    </tr>\n",
       "    <tr>\n",
       "      <th>1</th>\n",
       "      <td>CHINA</td>\n",
       "      <td>85</td>\n",
       "      <td>Electrical machinery &amp; equipment</td>\n",
       "      <td>3.015716e+11</td>\n",
       "      <td>17056282171</td>\n",
       "      <td>0.056558</td>\n",
       "    </tr>\n",
       "    <tr>\n",
       "      <th>2</th>\n",
       "      <td>CHINA</td>\n",
       "      <td>84</td>\n",
       "      <td>Machinery and mechanical appliances</td>\n",
       "      <td>1.614548e+11</td>\n",
       "      <td>13014022974</td>\n",
       "      <td>0.080605</td>\n",
       "    </tr>\n",
       "    <tr>\n",
       "      <th>3</th>\n",
       "      <td>CHINA</td>\n",
       "      <td>72</td>\n",
       "      <td>Iron and steel</td>\n",
       "      <td>8.783957e+10</td>\n",
       "      <td>10144562047</td>\n",
       "      <td>0.115490</td>\n",
       "    </tr>\n",
       "    <tr>\n",
       "      <th>4</th>\n",
       "      <td>CHINA</td>\n",
       "      <td>87</td>\n",
       "      <td>Vehicles other than railway</td>\n",
       "      <td>5.303461e+10</td>\n",
       "      <td>8910859976</td>\n",
       "      <td>0.168020</td>\n",
       "    </tr>\n",
       "    <tr>\n",
       "      <th>5</th>\n",
       "      <td>KOREA, REPUBLIC OF</td>\n",
       "      <td>27</td>\n",
       "      <td>Mineral fuels, oils and products</td>\n",
       "      <td>1.161549e+11</td>\n",
       "      <td>40856744268</td>\n",
       "      <td>0.351744</td>\n",
       "    </tr>\n",
       "    <tr>\n",
       "      <th>6</th>\n",
       "      <td>KOREA, REPUBLIC OF</td>\n",
       "      <td>87</td>\n",
       "      <td>Vehicles other than railway</td>\n",
       "      <td>1.733356e+10</td>\n",
       "      <td>3639701810</td>\n",
       "      <td>0.209980</td>\n",
       "    </tr>\n",
       "    <tr>\n",
       "      <th>7</th>\n",
       "      <td>KOREA, REPUBLIC OF</td>\n",
       "      <td>84</td>\n",
       "      <td>Machinery and mechanical appliances</td>\n",
       "      <td>3.275525e+10</td>\n",
       "      <td>1728752553</td>\n",
       "      <td>0.052778</td>\n",
       "    </tr>\n",
       "    <tr>\n",
       "      <th>8</th>\n",
       "      <td>KOREA, REPUBLIC OF</td>\n",
       "      <td>72</td>\n",
       "      <td>Iron and steel</td>\n",
       "      <td>1.030839e+10</td>\n",
       "      <td>902009081</td>\n",
       "      <td>0.087502</td>\n",
       "    </tr>\n",
       "    <tr>\n",
       "      <th>9</th>\n",
       "      <td>KOREA, REPUBLIC OF</td>\n",
       "      <td>85</td>\n",
       "      <td>Electrical machinery &amp; equipment</td>\n",
       "      <td>1.773141e+11</td>\n",
       "      <td>665029889</td>\n",
       "      <td>0.003751</td>\n",
       "    </tr>\n",
       "    <tr>\n",
       "      <th>10</th>\n",
       "      <td>INDONESIA</td>\n",
       "      <td>87</td>\n",
       "      <td>Vehicles other than railway</td>\n",
       "      <td>1.227132e+11</td>\n",
       "      <td>19715697058</td>\n",
       "      <td>0.160665</td>\n",
       "    </tr>\n",
       "    <tr>\n",
       "      <th>11</th>\n",
       "      <td>INDONESIA</td>\n",
       "      <td>27</td>\n",
       "      <td>Mineral fuels, oils and products</td>\n",
       "      <td>9.885390e+10</td>\n",
       "      <td>14931488591</td>\n",
       "      <td>0.151046</td>\n",
       "    </tr>\n",
       "    <tr>\n",
       "      <th>12</th>\n",
       "      <td>INDONESIA</td>\n",
       "      <td>21</td>\n",
       "      <td>Miscellaneous edible preparations</td>\n",
       "      <td>2.717923e+10</td>\n",
       "      <td>4815157875</td>\n",
       "      <td>0.177163</td>\n",
       "    </tr>\n",
       "    <tr>\n",
       "      <th>13</th>\n",
       "      <td>INDONESIA</td>\n",
       "      <td>15</td>\n",
       "      <td>Animal or vegetable fats</td>\n",
       "      <td>1.561514e+10</td>\n",
       "      <td>1424888572</td>\n",
       "      <td>0.091250</td>\n",
       "    </tr>\n",
       "    <tr>\n",
       "      <th>14</th>\n",
       "      <td>INDONESIA</td>\n",
       "      <td>85</td>\n",
       "      <td>Electrical machinery &amp; equipment</td>\n",
       "      <td>1.262453e+10</td>\n",
       "      <td>1297879268</td>\n",
       "      <td>0.102806</td>\n",
       "    </tr>\n",
       "    <tr>\n",
       "      <th>15</th>\n",
       "      <td>SINGAPORE</td>\n",
       "      <td>27</td>\n",
       "      <td>Mineral fuels, oils and products</td>\n",
       "      <td>5.324746e+10</td>\n",
       "      <td>22537265074</td>\n",
       "      <td>0.423255</td>\n",
       "    </tr>\n",
       "    <tr>\n",
       "      <th>16</th>\n",
       "      <td>SINGAPORE</td>\n",
       "      <td>85</td>\n",
       "      <td>Electrical machinery &amp; equipment</td>\n",
       "      <td>1.367361e+11</td>\n",
       "      <td>3979989326</td>\n",
       "      <td>0.029107</td>\n",
       "    </tr>\n",
       "    <tr>\n",
       "      <th>17</th>\n",
       "      <td>SINGAPORE</td>\n",
       "      <td>84</td>\n",
       "      <td>Machinery and mechanical appliances</td>\n",
       "      <td>6.097404e+10</td>\n",
       "      <td>3695984519</td>\n",
       "      <td>0.060616</td>\n",
       "    </tr>\n",
       "    <tr>\n",
       "      <th>18</th>\n",
       "      <td>SINGAPORE</td>\n",
       "      <td>33</td>\n",
       "      <td>Essential oils and resinoids</td>\n",
       "      <td>1.501894e+10</td>\n",
       "      <td>2042028906</td>\n",
       "      <td>0.135964</td>\n",
       "    </tr>\n",
       "    <tr>\n",
       "      <th>19</th>\n",
       "      <td>SINGAPORE</td>\n",
       "      <td>21</td>\n",
       "      <td>Miscellaneous edible preparations</td>\n",
       "      <td>1.475983e+10</td>\n",
       "      <td>1843636979</td>\n",
       "      <td>0.124909</td>\n",
       "    </tr>\n",
       "  </tbody>\n",
       "</table>\n",
       "</div>"
      ],
      "text/plain": [
       "         COUNTRYEXPORT HS2                       HS Description  \\\n",
       "0                CHINA  27    Mineral fuels, oils and products    \n",
       "1                CHINA  85    Electrical machinery & equipment    \n",
       "2                CHINA  84  Machinery and mechanical appliances   \n",
       "3                CHINA  72                       Iron and steel   \n",
       "4                CHINA  87          Vehicles other than railway   \n",
       "5   KOREA, REPUBLIC OF  27    Mineral fuels, oils and products    \n",
       "6   KOREA, REPUBLIC OF  87          Vehicles other than railway   \n",
       "7   KOREA, REPUBLIC OF  84  Machinery and mechanical appliances   \n",
       "8   KOREA, REPUBLIC OF  72                       Iron and steel   \n",
       "9   KOREA, REPUBLIC OF  85    Electrical machinery & equipment    \n",
       "10           INDONESIA  87          Vehicles other than railway   \n",
       "11           INDONESIA  27    Mineral fuels, oils and products    \n",
       "12           INDONESIA  21    Miscellaneous edible preparations   \n",
       "13           INDONESIA  15            Animal or vegetable fats    \n",
       "14           INDONESIA  85    Electrical machinery & equipment    \n",
       "15           SINGAPORE  27    Mineral fuels, oils and products    \n",
       "16           SINGAPORE  85    Electrical machinery & equipment    \n",
       "17           SINGAPORE  84  Machinery and mechanical appliances   \n",
       "18           SINGAPORE  33         Essential oils and resinoids   \n",
       "19           SINGAPORE  21    Miscellaneous edible preparations   \n",
       "\n",
       "    DUTIABLEVALUEPHP  DUTIESTAXES  DUTIESRATIO  \n",
       "0       1.834516e+11  56712039199     0.309139  \n",
       "1       3.015716e+11  17056282171     0.056558  \n",
       "2       1.614548e+11  13014022974     0.080605  \n",
       "3       8.783957e+10  10144562047     0.115490  \n",
       "4       5.303461e+10   8910859976     0.168020  \n",
       "5       1.161549e+11  40856744268     0.351744  \n",
       "6       1.733356e+10   3639701810     0.209980  \n",
       "7       3.275525e+10   1728752553     0.052778  \n",
       "8       1.030839e+10    902009081     0.087502  \n",
       "9       1.773141e+11    665029889     0.003751  \n",
       "10      1.227132e+11  19715697058     0.160665  \n",
       "11      9.885390e+10  14931488591     0.151046  \n",
       "12      2.717923e+10   4815157875     0.177163  \n",
       "13      1.561514e+10   1424888572     0.091250  \n",
       "14      1.262453e+10   1297879268     0.102806  \n",
       "15      5.324746e+10  22537265074     0.423255  \n",
       "16      1.367361e+11   3979989326     0.029107  \n",
       "17      6.097404e+10   3695984519     0.060616  \n",
       "18      1.501894e+10   2042028906     0.135964  \n",
       "19      1.475983e+10   1843636979     0.124909  "
      ]
     },
     "execution_count": 15,
     "metadata": {},
     "output_type": "execute_result"
    }
   ],
   "source": [
    "# Get top 4 COUNTRYEXPORT Chapters based on DUTIESTAXES.\n",
    "def top_country(df):\n",
    "    \"\"\"Return list of top 4 COUNTRYEXPORT in terms of DUTIESTAXES.\"\"\"\n",
    "    top = (df.groupby(\"COUNTRYEXPORT\")[[\"DUTIESTAXES\"]]\n",
    "           .agg(sum).nlargest(4, \"DUTIESTAXES\").reset_index())\n",
    "    return top.COUNTRYEXPORT.to_list()\n",
    "\n",
    "\n",
    "# Get Top 5 HS for each COUNTRYEXPORT based on DUTIESTAXES.\n",
    "def country_byhsratio(df, ctry):\n",
    "    \"\"\"Return DataFrame of top 5 HS per COUNTRYEXPORT.\"\"\"\n",
    "    top = (df[(df['COUNTRYEXPORT'] == ctry)]\n",
    "           .groupby([\"COUNTRYEXPORT\", \"HS2\", \"HS Description\"])\n",
    "           [[\"DUTIABLEVALUEPHP\", \"DUTIESTAXES\"]]\n",
    "           .agg(np.sum).nlargest(5, \"DUTIESTAXES\").reset_index())\n",
    "    top[\"DUTIESRATIO\"] = top[\"DUTIESTAXES\"] / top[\"DUTIABLEVALUEPHP\"]\n",
    "    return top\n",
    "\n",
    "\n",
    "# Only transactions with DUTIESTAXES < DUTIABLEVALUEPHP are included\n",
    "df_valid = df[df['DUTIESTAXES'] < df['DUTIABLEVALUEPHP']]\n",
    "\n",
    "# Combine the top 5 HS Chapter of the top 4 COUNTRYEXPORT.\n",
    "hs_country = pd.DataFrame()\n",
    "for hs in top_country(df_valid):\n",
    "    df_hs = country_byhsratio(df_valid, hs)\n",
    "    hs_country = hs_country.append(df_hs, ignore_index=True)\n",
    "hs_country.head(20)"
   ]
  },
  {
   "cell_type": "markdown",
   "metadata": {
    "colab_type": "text",
    "id": "d_uaCgE6DR4W"
   },
   "source": [
    "The information shown in the table is summarized in the `DUTIABLE VALUE AND DUTIES/TAXES OF IMPORTS BY HS CHAPTER` bar graphs shown below. \n",
    "\n",
    "__Note:__ There is a difference between the maximum values shown in the y-axes of the `DUTIABLE VALUE` and `DUTIES/TAXES` bar graphs. The maximum value of the y-axis of the DUTIES AND TAXES was lowered so that some bar graphs will be visible enough for visualization. "
   ]
  },
  {
   "cell_type": "code",
   "execution_count": 16,
   "metadata": {
    "ExecuteTime": {
     "end_time": "2020-06-05T12:37:46.136027Z",
     "start_time": "2020-06-05T12:37:43.760887Z"
    },
    "colab": {},
    "colab_type": "code",
    "id": "idnBlDrYDR4X",
    "scrolled": true
   },
   "outputs": [],
   "source": [
    "def sortedgroupedbar(ax, x ,y, groupby, data=None, width=0.8, **kwargs):\n",
    "    \"\"\"Sort values per HS chapter.\"\"\"\n",
    "    order = np.zeros(len(data))\n",
    "    df = data.copy()\n",
    "    for xi in np.unique(df[x].values):\n",
    "        group = data[df[x] == xi]\n",
    "        a = group[y].values\n",
    "        b = sorted(np.arange(len(a)),key=lambda x:a[x],reverse=True)\n",
    "        c = sorted(np.arange(len(a)),key=lambda x:b[x])\n",
    "        order[data[x] == xi] = c   \n",
    "    df[\"order\"] = order\n",
    "    u, df[\"ind\"] = np.unique(df[x].values, return_inverse=True)\n",
    "    step = width/len(np.unique(df[groupby].values))\n",
    "    for xi,grp in df.groupby(groupby):\n",
    "        ax.bar(grp[\"ind\"]-width/2.+grp[\"order\"]*step+step/2.,\n",
    "               grp[y],width=step, label=xi, **kwargs)\n",
    "    ax.legend(title=groupby)\n",
    "    ax.set_xticks(np.arange(len(u)))\n",
    "    ax.set_xticklabels(u)\n",
    "    ax.set_xlabel(x)\n",
    "    ax.set_ylabel(y)"
   ]
  },
  {
   "cell_type": "code",
   "execution_count": 17,
   "metadata": {
    "colab": {
     "base_uri": "https://localhost:8080/",
     "height": 755
    },
    "colab_type": "code",
    "id": "JLg_spoOMOXK",
    "outputId": "a1dc59a9-c6de-477c-c39a-3b3a04ddcc79"
   },
   "outputs": [
    {
     "data": {
      "image/png": "[encoded data removed]",
      "text/plain": [
       "<Figure size 576x720 with 2 Axes>"
      ]
     },
     "metadata": {
      "needs_background": "light"
     },
     "output_type": "display_data"
    }
   ],
   "source": [
    "fig, ax = plt.subplots(2,1,figsize=(8,10),sharex=True)\n",
    "fig.tight_layout(rect=[0, 0.03, 1, 0.95])\n",
    "plt.suptitle(\"DUTIABLE VALUE AND DUTIES/TAXES OF IMPORTS BY HS CHAPTER\",\n",
    "             fontsize=15)\n",
    "\n",
    "sortedgroupedbar(ax[0], x=\"COUNTRYEXPORT\", y='DUTIABLEVALUEPHP', \n",
    "                 groupby=\"HS Description\", data=hs_country)\n",
    "ax[0].set_xlabel(\"\")\n",
    "ax[0].set_ylabel(\"DUTIABLE VALUE (in PHP)\", fontsize=14)\n",
    "ax[0].legend(loc='best')\n",
    "\n",
    "sortedgroupedbar(ax[1], x=\"COUNTRYEXPORT\", y='DUTIESTAXES', \n",
    "                 groupby=\"HS Description\", data=hs_country)\n",
    "ax[1].set_xlabel(\"\")\n",
    "ax[1].set_ylabel(\"DUTIES AND TAXES (in PHP)\", fontsize=14)\n",
    "ax[1].legend(loc='best')\n",
    "ax[1].set_ylim(0, 1.5e11)\n",
    "\n",
    "plt.xticks(rotation=30, ha=\"right\");"
   ]
  },
  {
   "cell_type": "markdown",
   "metadata": {
    "colab_type": "text",
    "id": "rb4QJXpnDR4b"
   },
   "source": [
    "__Observation (`DUTIABLE VALUE AND DUTIES/TAXES OF IMPORTS BY HS CHAPTER` graph):__\n",
    "\n",
    "Based on the `DUTIABLE VALUE` bar graph a bulk of the total dutiable value is from products classified under the `Electrical machinery & equipment`. However, if you look at the `DUTIES AND TAXES` bar graph, the highest duties and taxes paid are not from products classified under `Electrical machinery & equipment` chapter, as many would think. It turns out that a chunk of the duties and taxes paid came from products classified under `Mineral fuels, oils, and products` and `vehicles other than  railway`.\n",
    "\n",
    "To have a clearer picture of how the values of duties and taxes vary along with the dutiable value involved, the `DUTIES RATIO` graph is given below. As defined, duties ratio is simply the value of the duties and taxes paid <em>as a percentage</em> of the dutiable value involved. "
   ]
  },
  {
   "cell_type": "code",
   "execution_count": 18,
   "metadata": {
    "ExecuteTime": {
     "end_time": "2020-06-05T12:40:07.559872Z",
     "start_time": "2020-06-05T12:40:05.475298Z"
    },
    "colab": {
     "base_uri": "https://localhost:8080/",
     "height": 380
    },
    "colab_type": "code",
    "id": "JpAQFj6eDR4f",
    "outputId": "ba86b7da-6d10-4578-f6d8-097091234c37",
    "scrolled": true
   },
   "outputs": [
    {
     "data": {
      "image/png": "[encoded data removed]",
      "text/plain": [
       "<Figure size 576x423.36 with 1 Axes>"
      ]
     },
     "metadata": {
      "needs_background": "light"
     },
     "output_type": "display_data"
    }
   ],
   "source": [
    "fig, ax = plt.subplots(figsize=(8, 5.88))\n",
    "fig.tight_layout(rect=[0, 0.03, 1, 0.95])\n",
    "plt.suptitle(\"DUTIES RATIO OF IMPORTS BY HS\", fontsize=15)\n",
    "sortedgroupedbar(ax, x=\"COUNTRYEXPORT\", y='DUTIESRATIO', \n",
    "                 groupby=\"HS Description\", data=hs_country)\n",
    "ax.set_xlabel(\"COUNTRIES\", fontsize=14)\n",
    "ax.set_ylabel(\"DUTIES RATIO\", fontsize=14)\n",
    "ax.set_ylim(0, 0.5)\n",
    "ax.legend(loc='best');"
   ]
  },
  {
   "cell_type": "markdown",
   "metadata": {
    "colab_type": "text",
    "id": "XcWJYhtGDR4m"
   },
   "source": [
    "__Analysis of the `DUTIABLE VALUE AND DUTIES/TAXES` and `DUTIES RATIO` graphs:__\n",
    "\n",
    "Observe that the duties ratio is `stable` for products imported from Indonesia under the selected HS chapters. The two largest importers of electrical machinery and equipment, South Korea and China, have the lowest duties ratio despite the large amount of dutiable values involved in these products. Hence we came up with the following insight.\n",
    "\n",
    "__Insight: Higher dutiable value involved does not necessarily mean that higher duties and taxes will be paid. Duties ratio vary by country where the imports originated.__\n",
    "\n",
    "__Reason:__ In fact one of the reasons that can explain this behavior is the economic development policies of the country. The Philippines is a country that has been in constant development during the last years. In order to keep up with this development, the country needs to import certain commodities that can help achieve these goals. \n",
    "\n",
    "In this case, we can see that commodities like `Electrical machinery and equipment` and `Machinery and mechanical appliances` have in general very low taxes independent. This could mean the government is providing benefits for companies to import these items in order to provide long term returns for the country. This might be a long term policy to incentive industrial development and in overall diversify the economy of the country.\n",
    "\n",
    "Another possible reason to incentivize low prices is low competition in the internal and external markets. For a fact we were able to see how products like Rice and similar commodities are highly taxed in order to protect the internal economy. However for commodities like `Electrical machinery and equipment` and `Machinery and mechanical appliances`, the internal competition is very low. Meaning, the government has a low incentive to protect internal industries that manufacture these components. As well, machinery and equipment are very specialized sectors with low competition, which might mean there is a strong influence from the producer to maintain low prices.   \n",
    "\n",
    "On the other hand, it can also be observed that the duties ratio of products under `Mineral fuels, oils and products` is significantly higher than the other HS chapters in 3 of the 4 countries (China, South Korea, Singapore).  \n",
    "\n",
    "__Insight: Products under `Mineral fuels, oils and products` may not be the highest in terms of the dutiable value involved but they contribute the most in the duties and taxes collection.__\n",
    "\n",
    "__Reason:__ In an analysis of Rappler, taxes on `Mineral fuels, oils and products` are made as an environmental and anti-poor measure. In fact, this is possible as an increase in the tax applied to products like oil or gas might reduce the usage of vehicles and incentive the usage of public transportation. This might as well explain the taxes imposed on vehicles that are very high and the second resource of revenue for the bureau. However, it is contradicting as the country has taken very few efforts to improve the public transportation service. "
   ]
  },
  {
   "cell_type": "markdown",
   "metadata": {
    "colab_type": "text",
    "id": "-2xaisJBDR4p"
   },
   "source": [
    "## 4.2 TOP HS CHAPTERS PER COUNTRY BASED ON DUTIES AND TAXES"
   ]
  },
  {
   "cell_type": "markdown",
   "metadata": {
    "colab_type": "text",
    "id": "QGYPHhmVDR4s"
   },
   "source": [
    "In this section, we will focus on the four HS chapters with the highest total duties and taxes paid in 2019. Note that the total duties and taxes collected from imported products under these HS chapters is equivalent to __nearly half__ of the total duties and taxes collection in 2019. Moreover, we will explore how the values of duties and taxes vary per country. Only the top five highest paying countries for each HS chapter are considered. However, it is worth noting that for each HS chapter, these top five countries have an aggregate share of around $70\\%-85\\%$ of the total duties and taxes paid specific to that HS chapter in 2019. With these considerations, the results of the exploratory data analysis will still be significant given their share in the total paid duties and taxes. \n"
   ]
  },
  {
   "cell_type": "markdown",
   "metadata": {
    "colab_type": "text",
    "id": "SABDu6yEb2Lg"
   },
   "source": [
    "As shown in the table below, products classified under `Mineral fuels, oils and products`, `Vehicles other than railway\t`, `Machinery and mechanical appliances` and `Electrical machinery & equipment` are the top contributors to the total duties and taxes in 2019. As mentioned, total duties and taxes collected from these products amounted roughly $50\\%$ of the overall duties and taxes. \n"
   ]
  },
  {
   "cell_type": "code",
   "execution_count": 19,
   "metadata": {
    "colab": {
     "base_uri": "https://localhost:8080/",
     "height": 229
    },
    "colab_type": "code",
    "id": "IbHDuiN3b4uY",
    "outputId": "1a2c06d9-2bcd-4873-98b3-115bb58788be"
   },
   "outputs": [
    {
     "data": {
      "text/html": [
       "<div>\n",
       "<style scoped>\n",
       "    .dataframe tbody tr th:only-of-type {\n",
       "        vertical-align: middle;\n",
       "    }\n",
       "\n",
       "    .dataframe tbody tr th {\n",
       "        vertical-align: top;\n",
       "    }\n",
       "\n",
       "    .dataframe thead th {\n",
       "        text-align: right;\n",
       "    }\n",
       "</style>\n",
       "<table border=\"1\" class=\"dataframe\">\n",
       "  <thead>\n",
       "    <tr style=\"text-align: right;\">\n",
       "      <th></th>\n",
       "      <th>HS2</th>\n",
       "      <th>HS Description</th>\n",
       "      <th>COUNTRYEXPORT</th>\n",
       "      <th>DUTIABLEVALUEPHP</th>\n",
       "      <th>DUTIESTAXES</th>\n",
       "      <th>DUTIESRATIO</th>\n",
       "    </tr>\n",
       "  </thead>\n",
       "  <tbody>\n",
       "    <tr>\n",
       "      <th>0</th>\n",
       "      <td>27</td>\n",
       "      <td>Mineral fuels, oils and products</td>\n",
       "      <td>CHINA</td>\n",
       "      <td>1.834516e+11</td>\n",
       "      <td>56712039199</td>\n",
       "      <td>0.309139</td>\n",
       "    </tr>\n",
       "    <tr>\n",
       "      <th>1</th>\n",
       "      <td>27</td>\n",
       "      <td>Mineral fuels, oils and products</td>\n",
       "      <td>KOREA, REPUBLIC OF</td>\n",
       "      <td>1.161549e+11</td>\n",
       "      <td>40856744268</td>\n",
       "      <td>0.351744</td>\n",
       "    </tr>\n",
       "    <tr>\n",
       "      <th>2</th>\n",
       "      <td>27</td>\n",
       "      <td>Mineral fuels, oils and products</td>\n",
       "      <td>SINGAPORE</td>\n",
       "      <td>5.324746e+10</td>\n",
       "      <td>22537265074</td>\n",
       "      <td>0.423255</td>\n",
       "    </tr>\n",
       "    <tr>\n",
       "      <th>3</th>\n",
       "      <td>27</td>\n",
       "      <td>Mineral fuels, oils and products</td>\n",
       "      <td>INDONESIA</td>\n",
       "      <td>9.885390e+10</td>\n",
       "      <td>14931488591</td>\n",
       "      <td>0.151046</td>\n",
       "    </tr>\n",
       "    <tr>\n",
       "      <th>4</th>\n",
       "      <td>27</td>\n",
       "      <td>Mineral fuels, oils and products</td>\n",
       "      <td>MALAYSIA</td>\n",
       "      <td>4.581634e+10</td>\n",
       "      <td>14522422983</td>\n",
       "      <td>0.316970</td>\n",
       "    </tr>\n",
       "    <tr>\n",
       "      <th>5</th>\n",
       "      <td>87</td>\n",
       "      <td>Vehicles other than railway</td>\n",
       "      <td>THAILAND</td>\n",
       "      <td>1.399958e+11</td>\n",
       "      <td>23972455055</td>\n",
       "      <td>0.171237</td>\n",
       "    </tr>\n",
       "    <tr>\n",
       "      <th>6</th>\n",
       "      <td>87</td>\n",
       "      <td>Vehicles other than railway</td>\n",
       "      <td>INDONESIA</td>\n",
       "      <td>1.227132e+11</td>\n",
       "      <td>19715697058</td>\n",
       "      <td>0.160665</td>\n",
       "    </tr>\n",
       "    <tr>\n",
       "      <th>7</th>\n",
       "      <td>87</td>\n",
       "      <td>Vehicles other than railway</td>\n",
       "      <td>JAPAN</td>\n",
       "      <td>7.426183e+10</td>\n",
       "      <td>19012078201</td>\n",
       "      <td>0.256014</td>\n",
       "    </tr>\n",
       "    <tr>\n",
       "      <th>8</th>\n",
       "      <td>87</td>\n",
       "      <td>Vehicles other than railway</td>\n",
       "      <td>CHINA</td>\n",
       "      <td>5.303461e+10</td>\n",
       "      <td>8910859976</td>\n",
       "      <td>0.168020</td>\n",
       "    </tr>\n",
       "    <tr>\n",
       "      <th>9</th>\n",
       "      <td>87</td>\n",
       "      <td>Vehicles other than railway</td>\n",
       "      <td>KOREA, REPUBLIC OF</td>\n",
       "      <td>1.733356e+10</td>\n",
       "      <td>3639701810</td>\n",
       "      <td>0.209980</td>\n",
       "    </tr>\n",
       "    <tr>\n",
       "      <th>10</th>\n",
       "      <td>84</td>\n",
       "      <td>Machinery and mechanical appliances</td>\n",
       "      <td>CHINA</td>\n",
       "      <td>1.614548e+11</td>\n",
       "      <td>13014023280</td>\n",
       "      <td>0.080605</td>\n",
       "    </tr>\n",
       "    <tr>\n",
       "      <th>11</th>\n",
       "      <td>84</td>\n",
       "      <td>Machinery and mechanical appliances</td>\n",
       "      <td>SINGAPORE</td>\n",
       "      <td>6.097404e+10</td>\n",
       "      <td>3695984760</td>\n",
       "      <td>0.060616</td>\n",
       "    </tr>\n",
       "    <tr>\n",
       "      <th>12</th>\n",
       "      <td>84</td>\n",
       "      <td>Machinery and mechanical appliances</td>\n",
       "      <td>JAPAN</td>\n",
       "      <td>1.270744e+11</td>\n",
       "      <td>3496726179</td>\n",
       "      <td>0.027517</td>\n",
       "    </tr>\n",
       "    <tr>\n",
       "      <th>13</th>\n",
       "      <td>84</td>\n",
       "      <td>Machinery and mechanical appliances</td>\n",
       "      <td>THAILAND</td>\n",
       "      <td>4.237679e+10</td>\n",
       "      <td>3058010213</td>\n",
       "      <td>0.072162</td>\n",
       "    </tr>\n",
       "    <tr>\n",
       "      <th>14</th>\n",
       "      <td>84</td>\n",
       "      <td>Machinery and mechanical appliances</td>\n",
       "      <td>UNITED STATES</td>\n",
       "      <td>4.480737e+10</td>\n",
       "      <td>1924818768</td>\n",
       "      <td>0.042958</td>\n",
       "    </tr>\n",
       "    <tr>\n",
       "      <th>15</th>\n",
       "      <td>85</td>\n",
       "      <td>Electrical machinery &amp; equipment</td>\n",
       "      <td>CHINA</td>\n",
       "      <td>3.015716e+11</td>\n",
       "      <td>17056282453</td>\n",
       "      <td>0.056558</td>\n",
       "    </tr>\n",
       "    <tr>\n",
       "      <th>16</th>\n",
       "      <td>85</td>\n",
       "      <td>Electrical machinery &amp; equipment</td>\n",
       "      <td>SINGAPORE</td>\n",
       "      <td>1.367361e+11</td>\n",
       "      <td>3979989905</td>\n",
       "      <td>0.029107</td>\n",
       "    </tr>\n",
       "    <tr>\n",
       "      <th>17</th>\n",
       "      <td>85</td>\n",
       "      <td>Electrical machinery &amp; equipment</td>\n",
       "      <td>HONG KONG</td>\n",
       "      <td>1.019463e+11</td>\n",
       "      <td>3609059147</td>\n",
       "      <td>0.035402</td>\n",
       "    </tr>\n",
       "    <tr>\n",
       "      <th>18</th>\n",
       "      <td>85</td>\n",
       "      <td>Electrical machinery &amp; equipment</td>\n",
       "      <td>VIET NAM</td>\n",
       "      <td>3.663982e+10</td>\n",
       "      <td>2880852017</td>\n",
       "      <td>0.078626</td>\n",
       "    </tr>\n",
       "    <tr>\n",
       "      <th>19</th>\n",
       "      <td>85</td>\n",
       "      <td>Electrical machinery &amp; equipment</td>\n",
       "      <td>UNITED STATES</td>\n",
       "      <td>1.327086e+11</td>\n",
       "      <td>1321726130</td>\n",
       "      <td>0.009960</td>\n",
       "    </tr>\n",
       "  </tbody>\n",
       "</table>\n",
       "</div>"
      ],
      "text/plain": [
       "   HS2                       HS Description       COUNTRYEXPORT  \\\n",
       "0   27    Mineral fuels, oils and products                CHINA   \n",
       "1   27    Mineral fuels, oils and products   KOREA, REPUBLIC OF   \n",
       "2   27    Mineral fuels, oils and products            SINGAPORE   \n",
       "3   27    Mineral fuels, oils and products            INDONESIA   \n",
       "4   27    Mineral fuels, oils and products             MALAYSIA   \n",
       "5   87          Vehicles other than railway            THAILAND   \n",
       "6   87          Vehicles other than railway           INDONESIA   \n",
       "7   87          Vehicles other than railway               JAPAN   \n",
       "8   87          Vehicles other than railway               CHINA   \n",
       "9   87          Vehicles other than railway  KOREA, REPUBLIC OF   \n",
       "10  84  Machinery and mechanical appliances               CHINA   \n",
       "11  84  Machinery and mechanical appliances           SINGAPORE   \n",
       "12  84  Machinery and mechanical appliances               JAPAN   \n",
       "13  84  Machinery and mechanical appliances            THAILAND   \n",
       "14  84  Machinery and mechanical appliances       UNITED STATES   \n",
       "15  85    Electrical machinery & equipment                CHINA   \n",
       "16  85    Electrical machinery & equipment            SINGAPORE   \n",
       "17  85    Electrical machinery & equipment            HONG KONG   \n",
       "18  85    Electrical machinery & equipment             VIET NAM   \n",
       "19  85    Electrical machinery & equipment        UNITED STATES   \n",
       "\n",
       "    DUTIABLEVALUEPHP  DUTIESTAXES  DUTIESRATIO  \n",
       "0       1.834516e+11  56712039199     0.309139  \n",
       "1       1.161549e+11  40856744268     0.351744  \n",
       "2       5.324746e+10  22537265074     0.423255  \n",
       "3       9.885390e+10  14931488591     0.151046  \n",
       "4       4.581634e+10  14522422983     0.316970  \n",
       "5       1.399958e+11  23972455055     0.171237  \n",
       "6       1.227132e+11  19715697058     0.160665  \n",
       "7       7.426183e+10  19012078201     0.256014  \n",
       "8       5.303461e+10   8910859976     0.168020  \n",
       "9       1.733356e+10   3639701810     0.209980  \n",
       "10      1.614548e+11  13014023280     0.080605  \n",
       "11      6.097404e+10   3695984760     0.060616  \n",
       "12      1.270744e+11   3496726179     0.027517  \n",
       "13      4.237679e+10   3058010213     0.072162  \n",
       "14      4.480737e+10   1924818768     0.042958  \n",
       "15      3.015716e+11  17056282453     0.056558  \n",
       "16      1.367361e+11   3979989905     0.029107  \n",
       "17      1.019463e+11   3609059147     0.035402  \n",
       "18      3.663982e+10   2880852017     0.078626  \n",
       "19      1.327086e+11   1321726130     0.009960  "
      ]
     },
     "execution_count": 19,
     "metadata": {},
     "output_type": "execute_result"
    }
   ],
   "source": [
    "# Get top 4 HS Chapters based on DUTIESTAXES. \n",
    "def top_hs_year(df):\n",
    "    \"\"\"Return list of top 4 HS in terms of total duties and taxes paid.\"\"\"\n",
    "    \n",
    "    top = (df.groupby([\"HS2\",\"HS Description\"])[[\"DUTIESTAXES\"]]\n",
    "           .agg(sum).nlargest(4, \"DUTIESTAXES\").reset_index())\n",
    "    return top.HS2.to_list()\n",
    "\n",
    "def country_byhsratio(df, hs):\n",
    "    \"\"\"Return DataFrame of top 5 countries per HS based on total duties and \n",
    "    taxes paid.\n",
    "    \"\"\"\n",
    "    \n",
    "    top = (df[(df['HS2'] == hs)]\n",
    "           .groupby([\"HS2\",\"HS Description\", \"COUNTRYEXPORT\"])\n",
    "           [[\"DUTIABLEVALUEPHP\", \"DUTIESTAXES\"]].agg(np.sum)\n",
    "           .nlargest(5, \"DUTIESTAXES\").reset_index())\n",
    "    top[\"DUTIESRATIO\"] = top[\"DUTIESTAXES\"] / top[\"DUTIABLEVALUEPHP\"]\n",
    "    return top\n",
    "\n",
    "# Combine in a daframe the top 5 countries from 2017-2020 per HS Chapter.\n",
    "country_hs = pd.DataFrame()\n",
    "for hs in top_hs_year(df):\n",
    "    df_hs = country_byhsratio(df, hs)\n",
    "    country_hs = country_hs.append(df_hs, ignore_index=True)\n",
    "country_hs.head(30)"
   ]
  },
  {
   "cell_type": "markdown",
   "metadata": {
    "colab_type": "text",
    "id": "Zbp71d8ub8eR"
   },
   "source": [
    "The information shown in the table are summarized in the `DUTIABLE VALUE AND DUTIES/TAXES` bar graph shown below."
   ]
  },
  {
   "cell_type": "code",
   "execution_count": 20,
   "metadata": {
    "colab": {},
    "colab_type": "code",
    "id": "YKMIP2NRcCYR"
   },
   "outputs": [],
   "source": [
    "def sortedgroupedbar(ax, x ,y, groupby, data=None, width=0.8, **kwargs):\n",
    "    \"\"\"Sort values per HS chapter.\"\"\"\n",
    "    order = np.zeros(len(data))\n",
    "    df = data.copy()\n",
    "    for xi in np.unique(df[x].values):\n",
    "        group = data[df[x] == xi]\n",
    "        a = group[y].values\n",
    "        b = sorted(np.arange(len(a)),key=lambda x:a[x],reverse=True)\n",
    "        c = sorted(np.arange(len(a)),key=lambda x:b[x])\n",
    "        order[data[x] == xi] = c   \n",
    "    df[\"order\"] = order\n",
    "    u, df[\"ind\"] = np.unique(df[x].values, return_inverse=True)\n",
    "    step = width/len(np.unique(df[groupby].values))\n",
    "    for xi,grp in df.groupby(groupby):\n",
    "        ax.bar(grp[\"ind\"]-width/2.+grp[\"order\"]*step+step/2.,\n",
    "               grp[y],width=step, label=xi, **kwargs)\n",
    "    ax.legend(title=groupby)\n",
    "    ax.set_xticks(np.arange(len(u)))\n",
    "    ax.set_xticklabels(u)\n",
    "    ax.set_xlabel(x)\n",
    "    ax.set_ylabel(y)"
   ]
  },
  {
   "cell_type": "code",
   "execution_count": 21,
   "metadata": {
    "colab": {},
    "colab_type": "code",
    "id": "4eMY-LhRcD0A"
   },
   "outputs": [
    {
     "data": {
      "image/png": "[encoded data removed]",
      "text/plain": [
       "<Figure size 576x720 with 2 Axes>"
      ]
     },
     "metadata": {
      "needs_background": "light"
     },
     "output_type": "display_data"
    }
   ],
   "source": [
    "fig, ax = plt.subplots(2,1,figsize=(8,10),sharex=True)\n",
    "fig.tight_layout(rect=[0, 0.03, 1, 0.95])\n",
    "plt.suptitle(\"DUTIABLE VALUE and DUTIES/TAXES\", fontsize=15)\n",
    "\n",
    "sortedgroupedbar(ax[0], x=\"HS Description\", y='DUTIABLEVALUEPHP', \n",
    "                 groupby=\"COUNTRYEXPORT\", data=country_hs)\n",
    "ax[0].set_xlabel(\"\")\n",
    "ax[0].set_ylabel(\"DUTIABLE VALUE (in PHP)\", fontsize=14)\n",
    "ax[0].legend(loc='center left', bbox_to_anchor=(1, 0.65))\n",
    "ax[0].legend(loc='best')\n",
    "\n",
    "sortedgroupedbar(ax[1], x=\"HS Description\", y='DUTIESTAXES', \n",
    "                 groupby=\"COUNTRYEXPORT\", data=country_hs)\n",
    "ax[1].set_xlabel(\"\")\n",
    "ax[1].set_ylabel(\"DUTIES AND TAXES (in PHP)\", fontsize=14)\n",
    "ax[1].legend(loc='center left', bbox_to_anchor=(1, 0.65))\n",
    "ax[1].legend(loc='best')\n",
    "ax[1].set_ylim(0, 1e11)\n",
    "\n",
    "plt.xticks(rotation=30, ha=\"right\");"
   ]
  },
  {
   "cell_type": "markdown",
   "metadata": {
    "colab_type": "text",
    "id": "5oYnrLe0cHV6"
   },
   "source": [
    "__Observation (`DUTIABLE VALUE AND DUTIES/TAXES` graph):__\n",
    "\n",
    "Comparing the total dutiable value involved in the transactions and total duties and taxes paid, it can be easily noticed that higher dutiable value does not necessarily imply higher duties and taxes due. \n",
    "\n",
    "To have a clearer picture of how the values of duties and taxes vary along with the dutiable value involved, the `DUTIES RATIO` graph is given below. As defined, duties ratio is simply the value of the duties and taxes paid <em>as a percentage</em> of the dutiable value involved. "
   ]
  },
  {
   "cell_type": "code",
   "execution_count": 22,
   "metadata": {
    "colab": {},
    "colab_type": "code",
    "id": "nhjVDz3HcKcu"
   },
   "outputs": [
    {
     "data": {
      "image/png": "[encoded data removed]",
      "text/plain": [
       "<Figure size 576x360 with 1 Axes>"
      ]
     },
     "metadata": {
      "needs_background": "light"
     },
     "output_type": "display_data"
    }
   ],
   "source": [
    "fig, ax = plt.subplots(figsize=(8,5))\n",
    "fig.tight_layout(rect=[0, 0.03, 1, 0.95])\n",
    "plt.suptitle(\"DUTIES RATIO\", fontsize=15)\n",
    "\n",
    "sortedgroupedbar(ax, x=\"HS Description\", y='DUTIESRATIO', \n",
    "                 groupby=\"COUNTRYEXPORT\", data=country_hs)\n",
    "ax.set_xlabel(\"HS CHAPTERS\", fontsize=14)\n",
    "ax.set_ylabel(\"DUTIES RATIO\", fontsize=14)\n",
    "ax.legend(loc='best')\n",
    "plt.xticks(rotation=30, ha=\"right\");"
   ]
  },
  {
   "cell_type": "markdown",
   "metadata": {
    "colab_type": "text",
    "id": "mf099MUhcNMw"
   },
   "source": [
    "__Analysis of the `DUTIABLE VALUE AND DUTIES/TAXES` and `DUTIES RATIO` graphs:__\n",
    "\n",
    "Products classified under <em>Electrical machinery & equipment</em> have the highest dutiable value involved. However, the duties and taxes collected from these products are not the highest. The highest duties and taxes collected arere from products classified under <em>Mineral fuels, oils, and products</em>. If you observe in the `DUTIES RATIO` table, duties and taxes collected from <em>Mineral fuels, oils and products</em> products comprised $15\\%-45\\%$ of the dutiable value involved, while the ratio is only $2\\%-8\\%$ for <em>Electrical machinery & equipment</em> products. This leads us to this insight.\n",
    "\n",
    "__Insight: Higher dutiable value involved does not necessarily mean that higher duties and taxes will be paid. Duties ratio vary by HS chapter.__\n",
    "\n",
    "__Reason:__ As explained in the insights of 4.1, some of the reasons why some products might have lower taxes are related to government development policies. For example products from the `Mineral fuels, oils, and products` are highly taxed as an environmental and anti-poor measure. Otherwise, products like  `Machinery and mechanical appliances` and `Electrical machinery & equipment` might be less taxed as there is no reason to protect the internal economy and are products necessary for the industrial development of the country.\n",
    "\n",
    "On the other hand, observe that in 3 out of 4 HS chapters, products from China involved the highest dutiable value. One would perhaps think that this implies higher duties and taxes to be collected from China. If we base it on the value of duties and taxes paid, the assumption is true. However, if we base it on the `DUTIES RATIO` graph, imports from China did not contribute the highest in terms of duties and taxes collected as a percentage of the dutiable value involved. The contrary is also observed in some countries. Take as an example product from Singapore classified under <em>Mineral fuels, oils, and products</em>. Even though it is not the highest in terms of duties and taxes paid and dutiable value involved, it has the highest duties ratio. This means that the duties and taxes paid is high (40%) relative to the dutiable value involved. This leads to our next insight.\n",
    "\n",
    "__Insight: For products within the same HS chapter, the higher dutiable value of imports from a certain country does NOT necessarily imply that duties and taxes as a percentage of the dutiable value are also high. Imported products from some countries with lower dutiable value involved may pay a higher percentage of duties and taxes relative to the dutiable value.__\n",
    "\n",
    "__Reason:__ In fact the HS chapter `Electrical machinery & equipment` has the highest dutiable value, but `Mineral fuels, oils, and products` chapter is the one that brings the highest revenue to the Bureau. This is explained by the same reason as the government has incentives to protect some internal industries or the benefit of the well-being of its citizens by providing protection measures to industries. As well, it is important to highlight that the country might as well incentive the imports of a certain commercial partner. For example, in the case of `Mineral fuels, oils and products` and `Vehicles other than railway`."
   ]
  },
  {
   "cell_type": "markdown",
   "metadata": {
    "colab_type": "text",
    "id": "Fgl6OxCLDR5p"
   },
   "source": [
    "## CONCLUSION AND RECOMMENDATION"
   ]
  },
  {
   "cell_type": "markdown",
   "metadata": {
    "colab_type": "text",
    "id": "kQlruT2wDR5r"
   },
   "source": [
    "__Overall, the exploratory data analysis surfaced the following insights.__\n",
    " 1. Imports from the top 10 origin countries in terms of total duties and taxes paid in 2019 comprise $79\\%$ of the total duties and taxes collection of the Bureau of Customs in 2019.\n",
    " 2. Imported products classified under any of the top 10 HS chapters in terms of total duties and taxes paid in 2019 comprise $72.7\\%$ of the total duties and taxes collection of the Bureau of Customs in 2019.\n",
    " 3. Looking at the total dutiable value of imports at a per origin country scale or at a per product classification scale, the higher total dutiable value does not necessarily imply that higher duties and taxes will be paid. The duties ratio can be used to observe this trend. To cite an example for this, in the `DUTIABLE VALUE AND DUTIES/TAXES` bar graphs in (4.1) and (4.2), it can be observed that the bars with the highest total dutiable value are not necessarily the highest bars with the highest duties and taxes. \n",
    " \n",
    "__In addition to these insights, we recommend the following.__\n",
    " 1. Capitalize on products with high dutiable value but low duties ratio. Appropriate measures should be planned out and proposed to increase duties and taxes for these products. \n",
    " 2. Protection measures like imposing high taxes on `Mineral fuels, oils, and products` need to be aligned with government initiatives like improving the public transportation system and discouraging the use of private vehicles. \n",
    " 3. High taxes on products like `Mineral fuels, oils and products` and `Vehicles other than railway` are passed directly to final consumers which might mean the government is prioritizing incentives to corporations instead of the citizens. We suggest the government take a look at this and explore how this might be affecting the financial wealth of the consumers. \n",
    " 4. It is clear that the low taxes in categories like `Electrical machinery & equipment` are a measure to incentivize the industrial development of the country. However, we suggest the government to invest in developing technology and provide competitive products for the internal market.  "
   ]
  },
  {
   "cell_type": "markdown",
   "metadata": {
    "colab_type": "text",
    "id": "5H-hKdEEDR5t"
   },
   "source": [
    "## ACKNOWLEDGEMENT"
   ]
  },
  {
   "cell_type": "markdown",
   "metadata": {
    "colab_type": "text",
    "id": "PgSHNqq8DR5u"
   },
   "source": [
    "- Prof. Christian Alis for the guidance"
   ]
  },
  {
   "cell_type": "markdown",
   "metadata": {
    "colab_type": "text",
    "id": "OzC4zO_mDR5w"
   },
   "source": [
    "## REFERENCES"
   ]
  },
  {
   "cell_type": "markdown",
   "metadata": {
    "colab_type": "text",
    "id": "0nyTaAceDR56"
   },
   "source": [
    "The Manila Times. *“Customs surpasses 2018 collection target”*. Accessed June 5, 2020. https://www.manilatimes.net/2019/01/02/news/top-stories/customs-surpasses-2018-collection-target/490528/ \n",
    "\n",
    "Business World. *“Customs bureau fails to hit 2019 revenue target”*. Accessed June 5, 2020. https://www.bworldonline.com/customs-bureau-fails-to-hit-2019-revenue-target/ \n",
    "\n",
    "Tariff Commission. *“The ASEAN Harmonized Tariff Nomenclature (AHTN) 2017”* Accessed June 5, 2020. https://tariffcommission.gov.ph/tariff-book \n",
    "\n",
    "Abante, Ken. (2020). *An Open Data Set of Twenty Million Import Transactions from the Bureau of Customs of the Philippines (2012-2019)*. 10.13140/RG.2.2.24053.73444. Accessed June 5, 2020. https://www.researchgate.net/publication/339066219 "
   ]
  }
 ],
 "metadata": {
  "colab": {
   "collapsed_sections": [],
   "name": "DMW_LAB1_JUNE24.ipynb",
   "provenance": []
  },
  "kernelspec": {
   "display_name": "Python 3 (ipykernel)",
   "language": "python",
   "name": "python3"
  },
  "language_info": {
   "codemirror_mode": {
    "name": "ipython",
    "version": 3
   },
   "file_extension": ".py",
   "mimetype": "text/x-python",
   "name": "python",
   "nbconvert_exporter": "python",
   "pygments_lexer": "ipython3",
   "version": "3.9.7"
  }
 },
 "nbformat": 4,
 "nbformat_minor": 1
}
